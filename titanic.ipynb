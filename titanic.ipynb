{
 "cells": [
  {
   "attachments": {},
   "cell_type": "markdown",
   "metadata": {},
   "source": [
    "# Titanic - Machine Learning from Disaster\n",
    "\n",
    "Reference: Will Cukierski. Titanic - Machine Learning from Disaster. https://kaggle.com/competitions/titanic, 2012. Kaggle.\n",
    "\n",
    "This is a practice for Classification model"
   ]
  },
  {
   "cell_type": "code",
   "execution_count": 1,
   "metadata": {},
   "outputs": [],
   "source": [
    "import pandas as pd \n",
    "import numpy as np \n",
    "import seaborn as sns \n",
    "import matplotlib.pyplot as plt"
   ]
  },
  {
   "cell_type": "code",
   "execution_count": 2,
   "metadata": {},
   "outputs": [],
   "source": [
    "df_train = pd.read_csv('~/Desktop/train.csv').drop(['PassengerId'], axis=1)\n",
    "Id = pd.read_csv('~/Desktop/test.csv')['PassengerId']\n",
    "df_test = pd.read_csv('~/Desktop/test.csv').drop(['PassengerId'], axis=1)"
   ]
  },
  {
   "attachments": {},
   "cell_type": "markdown",
   "metadata": {},
   "source": [
    "## Handle Missing Values"
   ]
  },
  {
   "cell_type": "code",
   "execution_count": 3,
   "metadata": {},
   "outputs": [
    {
     "data": {
      "text/html": [
       "<div>\n",
       "<style scoped>\n",
       "    .dataframe tbody tr th:only-of-type {\n",
       "        vertical-align: middle;\n",
       "    }\n",
       "\n",
       "    .dataframe tbody tr th {\n",
       "        vertical-align: top;\n",
       "    }\n",
       "\n",
       "    .dataframe thead th {\n",
       "        text-align: right;\n",
       "    }\n",
       "</style>\n",
       "<table border=\"1\" class=\"dataframe\">\n",
       "  <thead>\n",
       "    <tr style=\"text-align: right;\">\n",
       "      <th></th>\n",
       "      <th>Survived</th>\n",
       "      <th>Pclass</th>\n",
       "      <th>Age</th>\n",
       "      <th>SibSp</th>\n",
       "      <th>Parch</th>\n",
       "      <th>Fare</th>\n",
       "    </tr>\n",
       "  </thead>\n",
       "  <tbody>\n",
       "    <tr>\n",
       "      <th>count</th>\n",
       "      <td>891.000000</td>\n",
       "      <td>891.000000</td>\n",
       "      <td>714.000000</td>\n",
       "      <td>891.000000</td>\n",
       "      <td>891.000000</td>\n",
       "      <td>891.000000</td>\n",
       "    </tr>\n",
       "    <tr>\n",
       "      <th>mean</th>\n",
       "      <td>0.383838</td>\n",
       "      <td>2.308642</td>\n",
       "      <td>29.699118</td>\n",
       "      <td>0.523008</td>\n",
       "      <td>0.381594</td>\n",
       "      <td>32.204208</td>\n",
       "    </tr>\n",
       "    <tr>\n",
       "      <th>std</th>\n",
       "      <td>0.486592</td>\n",
       "      <td>0.836071</td>\n",
       "      <td>14.526497</td>\n",
       "      <td>1.102743</td>\n",
       "      <td>0.806057</td>\n",
       "      <td>49.693429</td>\n",
       "    </tr>\n",
       "    <tr>\n",
       "      <th>min</th>\n",
       "      <td>0.000000</td>\n",
       "      <td>1.000000</td>\n",
       "      <td>0.420000</td>\n",
       "      <td>0.000000</td>\n",
       "      <td>0.000000</td>\n",
       "      <td>0.000000</td>\n",
       "    </tr>\n",
       "    <tr>\n",
       "      <th>25%</th>\n",
       "      <td>0.000000</td>\n",
       "      <td>2.000000</td>\n",
       "      <td>20.125000</td>\n",
       "      <td>0.000000</td>\n",
       "      <td>0.000000</td>\n",
       "      <td>7.910400</td>\n",
       "    </tr>\n",
       "    <tr>\n",
       "      <th>50%</th>\n",
       "      <td>0.000000</td>\n",
       "      <td>3.000000</td>\n",
       "      <td>28.000000</td>\n",
       "      <td>0.000000</td>\n",
       "      <td>0.000000</td>\n",
       "      <td>14.454200</td>\n",
       "    </tr>\n",
       "    <tr>\n",
       "      <th>75%</th>\n",
       "      <td>1.000000</td>\n",
       "      <td>3.000000</td>\n",
       "      <td>38.000000</td>\n",
       "      <td>1.000000</td>\n",
       "      <td>0.000000</td>\n",
       "      <td>31.000000</td>\n",
       "    </tr>\n",
       "    <tr>\n",
       "      <th>max</th>\n",
       "      <td>1.000000</td>\n",
       "      <td>3.000000</td>\n",
       "      <td>80.000000</td>\n",
       "      <td>8.000000</td>\n",
       "      <td>6.000000</td>\n",
       "      <td>512.329200</td>\n",
       "    </tr>\n",
       "  </tbody>\n",
       "</table>\n",
       "</div>"
      ],
      "text/plain": [
       "         Survived      Pclass         Age       SibSp       Parch        Fare\n",
       "count  891.000000  891.000000  714.000000  891.000000  891.000000  891.000000\n",
       "mean     0.383838    2.308642   29.699118    0.523008    0.381594   32.204208\n",
       "std      0.486592    0.836071   14.526497    1.102743    0.806057   49.693429\n",
       "min      0.000000    1.000000    0.420000    0.000000    0.000000    0.000000\n",
       "25%      0.000000    2.000000   20.125000    0.000000    0.000000    7.910400\n",
       "50%      0.000000    3.000000   28.000000    0.000000    0.000000   14.454200\n",
       "75%      1.000000    3.000000   38.000000    1.000000    0.000000   31.000000\n",
       "max      1.000000    3.000000   80.000000    8.000000    6.000000  512.329200"
      ]
     },
     "execution_count": 3,
     "metadata": {},
     "output_type": "execute_result"
    }
   ],
   "source": [
    "df_train.describe()"
   ]
  },
  {
   "cell_type": "code",
   "execution_count": 4,
   "metadata": {},
   "outputs": [
    {
     "data": {
      "text/plain": [
       "Survived      0\n",
       "Pclass        0\n",
       "Name          0\n",
       "Sex           0\n",
       "Age         177\n",
       "SibSp         0\n",
       "Parch         0\n",
       "Ticket        0\n",
       "Fare          0\n",
       "Cabin       687\n",
       "Embarked      2\n",
       "dtype: int64"
      ]
     },
     "execution_count": 4,
     "metadata": {},
     "output_type": "execute_result"
    }
   ],
   "source": [
    "df_train.isna().sum()"
   ]
  },
  {
   "cell_type": "code",
   "execution_count": 5,
   "metadata": {},
   "outputs": [],
   "source": [
    "# Drop Cabin due to large volumn of missing values\n",
    "df_train.drop('Cabin', axis=1, inplace=True)\n",
    "df_test.drop('Cabin', axis=1, inplace=True)\n",
    "\n",
    "# Drop Ticket as it Pclass already provided class info\n",
    "df_train.drop('Ticket', axis=1, inplace=True)\n",
    "df_test.drop('Ticket', axis=1, inplace=True)"
   ]
  },
  {
   "cell_type": "code",
   "execution_count": 6,
   "metadata": {},
   "outputs": [],
   "source": [
    "# Fill Age missing value with its mean\n",
    "\n",
    "age_mean = np.mean(df_train['Age'])\n",
    "df_train['Age'] = df_train['Age'].fillna(age_mean)\n",
    "df_test['Age'] = df_test['Age'].fillna(age_mean)"
   ]
  },
  {
   "cell_type": "code",
   "execution_count": 7,
   "metadata": {},
   "outputs": [],
   "source": [
    "# Fill Embarked missing value with its mode\n",
    "\n",
    "embarked_mode = df_train['Embarked'].mode()[0]\n",
    "df_train['Embarked'] = df_train['Embarked'].fillna(embarked_mode)\n",
    "df_test['Embarked'] = df_test['Embarked'].fillna(embarked_mode)"
   ]
  },
  {
   "cell_type": "code",
   "execution_count": 10,
   "metadata": {},
   "outputs": [],
   "source": [
    "# Fill Fare missing value with its mean\n",
    "fare_mean = df_train['Fare'].mean()\n",
    "df_test['Fare'] = df_test['Fare'].fillna(fare_mean)"
   ]
  },
  {
   "cell_type": "code",
   "execution_count": 12,
   "metadata": {},
   "outputs": [
    {
     "data": {
      "text/plain": [
       "Survived    0\n",
       "Pclass      0\n",
       "Name        0\n",
       "Sex         0\n",
       "Age         0\n",
       "SibSp       0\n",
       "Parch       0\n",
       "Fare        0\n",
       "Embarked    0\n",
       "dtype: int64"
      ]
     },
     "execution_count": 12,
     "metadata": {},
     "output_type": "execute_result"
    }
   ],
   "source": [
    "df_train.isna().sum()"
   ]
  },
  {
   "attachments": {},
   "cell_type": "markdown",
   "metadata": {},
   "source": [
    "# EDA "
   ]
  },
  {
   "cell_type": "code",
   "execution_count": 9,
   "metadata": {},
   "outputs": [
    {
     "data": {
      "image/png": "[encoded data removed]",
      "text/plain": [
       "<Figure size 640x480 with 1 Axes>"
      ]
     },
     "metadata": {},
     "output_type": "display_data"
    }
   ],
   "source": [
    "# relationship between passenger class and fare \n",
    "sns.regplot(data=df_train, x='Pclass', y='Fare', line_kws={'color':'r'})\n",
    "plt.show()"
   ]
  },
  {
   "cell_type": "code",
   "execution_count": 10,
   "metadata": {},
   "outputs": [
    {
     "name": "stdout",
     "output_type": "stream",
     "text": [
      "-0.5494996199439076\n"
     ]
    },
    {
     "data": {
      "application/vnd.microsoft.datawrangler.viewer.v0+json": {
       "columns": [
        {
         "name": "Pclass",
         "rawType": "int64",
         "type": "integer"
        },
        {
         "name": "Survived",
         "rawType": "float64",
         "type": "float"
        },
        {
         "name": "Age",
         "rawType": "float64",
         "type": "float"
        },
        {
         "name": "SibSp",
         "rawType": "float64",
         "type": "float"
        },
        {
         "name": "Parch",
         "rawType": "float64",
         "type": "float"
        },
        {
         "name": "Fare",
         "rawType": "float64",
         "type": "float"
        }
       ],
       "conversionMethod": "pd.DataFrame",
       "ref": "110b83e3-1811-4864-8b63-3760a6d213a3",
       "rows": [
        [
         "1",
         "0.6296296296296297",
         "37.04811819172113",
         "0.4166666666666667",
         "0.35648148148148145",
         "84.1546875"
        ],
        [
         "2",
         "0.47282608695652173",
         "29.8669581202046",
         "0.40217391304347827",
         "0.3804347826086957",
         "20.662183152173913"
        ],
        [
         "3",
         "0.24236252545824846",
         "26.403258655804482",
         "0.615071283095723",
         "0.39307535641547864",
         "13.675550101832993"
        ]
       ],
       "shape": {
        "columns": 5,
        "rows": 3
       }
      },
      "text/html": [
       "<div>\n",
       "<style scoped>\n",
       "    .dataframe tbody tr th:only-of-type {\n",
       "        vertical-align: middle;\n",
       "    }\n",
       "\n",
       "    .dataframe tbody tr th {\n",
       "        vertical-align: top;\n",
       "    }\n",
       "\n",
       "    .dataframe thead th {\n",
       "        text-align: right;\n",
       "    }\n",
       "</style>\n",
       "<table border=\"1\" class=\"dataframe\">\n",
       "  <thead>\n",
       "    <tr style=\"text-align: right;\">\n",
       "      <th></th>\n",
       "      <th>Survived</th>\n",
       "      <th>Age</th>\n",
       "      <th>SibSp</th>\n",
       "      <th>Parch</th>\n",
       "      <th>Fare</th>\n",
       "    </tr>\n",
       "    <tr>\n",
       "      <th>Pclass</th>\n",
       "      <th></th>\n",
       "      <th></th>\n",
       "      <th></th>\n",
       "      <th></th>\n",
       "      <th></th>\n",
       "    </tr>\n",
       "  </thead>\n",
       "  <tbody>\n",
       "    <tr>\n",
       "      <th>1</th>\n",
       "      <td>0.629630</td>\n",
       "      <td>37.048118</td>\n",
       "      <td>0.416667</td>\n",
       "      <td>0.356481</td>\n",
       "      <td>84.154687</td>\n",
       "    </tr>\n",
       "    <tr>\n",
       "      <th>2</th>\n",
       "      <td>0.472826</td>\n",
       "      <td>29.866958</td>\n",
       "      <td>0.402174</td>\n",
       "      <td>0.380435</td>\n",
       "      <td>20.662183</td>\n",
       "    </tr>\n",
       "    <tr>\n",
       "      <th>3</th>\n",
       "      <td>0.242363</td>\n",
       "      <td>26.403259</td>\n",
       "      <td>0.615071</td>\n",
       "      <td>0.393075</td>\n",
       "      <td>13.675550</td>\n",
       "    </tr>\n",
       "  </tbody>\n",
       "</table>\n",
       "</div>"
      ],
      "text/plain": [
       "        Survived        Age     SibSp     Parch       Fare\n",
       "Pclass                                                    \n",
       "1       0.629630  37.048118  0.416667  0.356481  84.154687\n",
       "2       0.472826  29.866958  0.402174  0.380435  20.662183\n",
       "3       0.242363  26.403259  0.615071  0.393075  13.675550"
      ]
     },
     "execution_count": 10,
     "metadata": {},
     "output_type": "execute_result"
    }
   ],
   "source": [
    "print(df_train.corr(numeric_only=True)['Pclass']['Fare'])\n",
    "df_train.groupby('Pclass').mean(numeric_only=True)"
   ]
  },
  {
   "attachments": {},
   "cell_type": "markdown",
   "metadata": {},
   "source": [
    "## Feature Engineering"
   ]
  },
  {
   "cell_type": "code",
   "execution_count": 13,
   "metadata": {},
   "outputs": [],
   "source": [
    "# title extraction\n",
    "import re\n",
    "\n",
    "def extract_title(name):\n",
    "    title_search = re.search(' ([A-Za-z]+)\\.', name)\n",
    "    if title_search:\n",
    "        return title_search.group(1)  \n",
    "    return \"\"  \n",
    "\n",
    "# Apply the function to the Name column\n",
    "df_train['Title'] = df_train['Name'].apply(extract_title)\n",
    "df_test['Title'] = df_test['Name'].apply(extract_title)\n",
    "\n",
    "# Group rare titles\n",
    "def group_titles(title):\n",
    "    if title in ['Mr', 'Don', 'Sir', 'Capt', 'Major', 'Col']:  \n",
    "        return 'Mr'\n",
    "    elif title in ['Master', 'Jonkheer']:  \n",
    "        return 'Master'\n",
    "    elif title in ['Mrs', 'Mme', 'Lady']:  \n",
    "        return 'Mrs'\n",
    "    elif title in ['Miss', 'Ms', 'Mlle']:  \n",
    "        return 'Miss'\n",
    "    else:\n",
    "        return 'Others'  \n",
    "\n",
    "# Apply the grouping function\n",
    "df_train['Title'] = df_train['Title'].apply(group_titles)\n",
    "df_test['Title'] = df_test['Title'].apply(group_titles)\n",
    "\n",
    "title_mapping = {'Others':0, 'Master':1, 'Mrs':2, 'Miss':3, 'Mr':4}\n",
    "\n",
    "df_train['Title'] = df_train['Title'].map(title_mapping)\n",
    "df_test['Title'] = df_test['Title'].map(title_mapping)\n",
    "\n",
    "df_train.drop('Name', axis=1, inplace=True)\n",
    "df_test.drop('Name', axis=1, inplace=True)"
   ]
  },
  {
   "cell_type": "code",
   "execution_count": 15,
   "metadata": {},
   "outputs": [],
   "source": [
    "# family size\n",
    "df_train['Family_size'] = df_train['SibSp'] + df_train['Parch'] + 1\n",
    "df_test['Family_size'] = df_test['SibSp'] + df_test['Parch'] + 1\n",
    "\n",
    "\n",
    "sns.barplot(x='Family_size', y='Survived', data=df_train)\n",
    "plt.title('Survival Rate by Family Size')\n",
    "plt.show()"
   ]
  },
  {
   "cell_type": "code",
   "execution_count": null,
   "metadata": {},
   "outputs": [],
   "source": [
    "# Alone\n",
    "df_train['Alone'] = df_train['Family_size'].apply(lambda x: 1 if x == 1 else 0)\n",
    "df_test['Alone'] = df_test['Family_size'].apply(lambda x: 1 if x == 1 else 0)\n",
    "\n",
    "sns.barplot(x='Alone', y='Survived', data=df_train)\n",
    "plt.title('Survival Rate by Alone')\n",
    "plt.show()"
   ]
  },
  {
   "cell_type": "code",
   "execution_count": 16,
   "metadata": {},
   "outputs": [],
   "source": [
    "# Define bins for Age\n",
    "age_bins = [0, 12, 19, 59, float('inf')]\n",
    "age_labels = ['Child', 'Teenager', 'Adult', 'Senior']\n",
    "\n",
    "# Create Age_group column\n",
    "df_train['Age_group'] = pd.cut(df_train['Age'], bins=age_bins, labels=age_labels)\n",
    "df_test['Age_group'] = pd.cut(df_test['Age'], bins=age_bins, labels=age_labels)\n",
    "\n",
    "age_mapping = {'Child':0, 'Teenager':1, 'Adult':2, 'Senior':3}\n",
    "df_train['Age_group'] = df_train['Age_group'].map(age_mapping)\n",
    "df_test['Age_group'] = df_test['Age_group'].map(age_mapping)\n",
    "\n",
    "sns.barplot(x='Age_group', y='Survived', data=df_train)\n",
    "plt.title('Survival Rate by Age Group')\n",
    "plt.show()"
   ]
  },
  {
   "cell_type": "code",
   "execution_count": 16,
   "metadata": {},
   "outputs": [],
   "source": [
    "# fare binning\n",
    "fare_bins = [0, 10.01, 50, float('inf')]\n",
    "fare_labels = ['Low', 'Medium', 'High']\n",
    "\n",
    "# Create Fare_group column\n",
    "df_train['Fare_group'] = pd.cut(df_train['Fare'], bins=fare_bins, labels=fare_labels, right=False)\n",
    "df_test['Fare_group'] = pd.cut(df_test['Fare'], bins=fare_bins, labels=fare_labels, right = False)\n",
    "\n",
    "fare_mapping = {'Low':0, 'Medium':1, 'High':2}\n",
    "df_train['Fare_group'] = df_train['Fare_group'].map(fare_mapping)\n",
    "df_test['Fare_group'] = df_test['Fare_group'].map(fare_mapping)\n",
    "\n",
    "sns.barplot(x='Fare_group', y='Survived', data=df_train)\n",
    "plt.title('Survival Rate by Fare Group')\n",
    "plt.show()"
   ]
  },
  {
   "attachments": {},
   "cell_type": "markdown",
   "metadata": {},
   "source": [
    "## Dummy Variables"
   ]
  },
  {
   "cell_type": "code",
   "execution_count": 18,
   "metadata": {},
   "outputs": [
    {
     "data": {
      "text/plain": [
       "Pclass         0\n",
       "Sex            0\n",
       "Age            0\n",
       "SibSp          0\n",
       "Parch          0\n",
       "Fare           0\n",
       "Embarked       0\n",
       "Title          0\n",
       "Family_size    0\n",
       "Age_group      0\n",
       "Fare_group     0\n",
       "dtype: int64"
      ]
     },
     "execution_count": 18,
     "metadata": {},
     "output_type": "execute_result"
    }
   ],
   "source": [
    "df_test.isna().sum()"
   ]
  },
  {
   "cell_type": "code",
   "execution_count": 19,
   "metadata": {},
   "outputs": [],
   "source": [
    "# from sklearn.preprocessing import OneHotEncoder\n",
    "\n",
    "# \n",
    "# dummy_col = ['Sex', 'Embarked']\n",
    "# \n",
    "# dummy_encoder = OneHotEncoder(handle_unknown='ignore', drop='first')\n",
    "# \n",
    "# df_train_dummy = dummy_encoder.fit_transform(df_train[dummy_col]).toarray()\n",
    "# df_test_dummy = dummy_encoder.transform(df_test[dummy_col]).toarray()\n",
    "# \n",
    "# df_train = pd.DataFrame(df_train_dummy, columns=dummy_encoder.get_feature_names_out()).join(\n",
    "#     df_train[['Pclass','Age','Age_group','SibSp', 'Fare','Parch', 'Survived', 'Title', 'Family_size', 'Fare_group']])\n",
    "# df_test = pd.DataFrame(df_test_dummy, columns=dummy_encoder.get_feature_names_out()).join(\n",
    "#     df_test[['Pclass','Age','Age_group','SibSp', 'Fare','Parch', 'Title', 'Family_size', 'Fare_group']])\n",
    "# "
   ]
  },
  {
   "cell_type": "code",
   "execution_count": 20,
   "metadata": {},
   "outputs": [
    {
     "data": {
      "application/vnd.microsoft.datawrangler.viewer.v0+json": {
       "columns": [
        {
         "name": "index",
         "rawType": "int64",
         "type": "integer"
        },
        {
         "name": "Sex_male",
         "rawType": "float64",
         "type": "float"
        },
        {
         "name": "Embarked_Q",
         "rawType": "float64",
         "type": "float"
        },
        {
         "name": "Embarked_S",
         "rawType": "float64",
         "type": "float"
        },
        {
         "name": "Pclass",
         "rawType": "int64",
         "type": "integer"
        },
        {
         "name": "Age",
         "rawType": "float64",
         "type": "float"
        },
        {
         "name": "Age_group",
         "rawType": "category",
         "type": "unknown"
        },
        {
         "name": "SibSp",
         "rawType": "int64",
         "type": "integer"
        },
        {
         "name": "Fare",
         "rawType": "float64",
         "type": "float"
        },
        {
         "name": "Parch",
         "rawType": "int64",
         "type": "integer"
        },
        {
         "name": "Survived",
         "rawType": "int64",
         "type": "integer"
        },
        {
         "name": "Title",
         "rawType": "int64",
         "type": "integer"
        },
        {
         "name": "Family_size",
         "rawType": "int64",
         "type": "integer"
        },
        {
         "name": "Fare_group",
         "rawType": "category",
         "type": "unknown"
        }
       ],
       "conversionMethod": "pd.DataFrame",
       "ref": "a021feba-8f5b-4216-8889-6c4ad4a65123",
       "rows": [
        [
         "0",
         "1.0",
         "0.0",
         "1.0",
         "3",
         "22.0",
         "2",
         "1",
         "7.25",
         "0",
         "0",
         "4",
         "0",
         "0"
        ],
        [
         "1",
         "0.0",
         "0.0",
         "0.0",
         "1",
         "38.0",
         "2",
         "1",
         "71.2833",
         "0",
         "1",
         "2",
         "0",
         "2"
        ],
        [
         "2",
         "0.0",
         "0.0",
         "1.0",
         "3",
         "26.0",
         "2",
         "0",
         "7.925",
         "0",
         "1",
         "3",
         "1",
         "0"
        ],
        [
         "3",
         "0.0",
         "0.0",
         "1.0",
         "1",
         "35.0",
         "2",
         "1",
         "53.1",
         "0",
         "1",
         "2",
         "0",
         "2"
        ],
        [
         "4",
         "1.0",
         "0.0",
         "1.0",
         "3",
         "35.0",
         "2",
         "0",
         "8.05",
         "0",
         "0",
         "4",
         "1",
         "0"
        ],
        [
         "5",
         "1.0",
         "1.0",
         "0.0",
         "3",
         "29.69911764705882",
         "2",
         "0",
         "8.4583",
         "0",
         "0",
         "4",
         "1",
         "0"
        ],
        [
         "6",
         "1.0",
         "0.0",
         "1.0",
         "1",
         "54.0",
         "2",
         "0",
         "51.8625",
         "0",
         "0",
         "4",
         "1",
         "2"
        ],
        [
         "7",
         "1.0",
         "0.0",
         "1.0",
         "3",
         "2.0",
         "0",
         "3",
         "21.075",
         "1",
         "0",
         "1",
         "0",
         "1"
        ],
        [
         "8",
         "0.0",
         "0.0",
         "1.0",
         "3",
         "27.0",
         "2",
         "0",
         "11.1333",
         "2",
         "1",
         "2",
         "0",
         "1"
        ],
        [
         "9",
         "0.0",
         "0.0",
         "0.0",
         "2",
         "14.0",
         "1",
         "1",
         "30.0708",
         "0",
         "1",
         "2",
         "0",
         "1"
        ],
        [
         "10",
         "0.0",
         "0.0",
         "1.0",
         "3",
         "4.0",
         "0",
         "1",
         "16.7",
         "1",
         "1",
         "3",
         "0",
         "1"
        ],
        [
         "11",
         "0.0",
         "0.0",
         "1.0",
         "1",
         "58.0",
         "2",
         "0",
         "26.55",
         "0",
         "1",
         "3",
         "1",
         "1"
        ],
        [
         "12",
         "1.0",
         "0.0",
         "1.0",
         "3",
         "20.0",
         "2",
         "0",
         "8.05",
         "0",
         "0",
         "4",
         "1",
         "0"
        ],
        [
         "13",
         "1.0",
         "0.0",
         "1.0",
         "3",
         "39.0",
         "2",
         "1",
         "31.275",
         "5",
         "0",
         "4",
         "0",
         "1"
        ],
        [
         "14",
         "0.0",
         "0.0",
         "1.0",
         "3",
         "14.0",
         "1",
         "0",
         "7.8542",
         "0",
         "0",
         "3",
         "1",
         "0"
        ],
        [
         "15",
         "0.0",
         "0.0",
         "1.0",
         "2",
         "55.0",
         "2",
         "0",
         "16.0",
         "0",
         "1",
         "2",
         "1",
         "1"
        ],
        [
         "16",
         "1.0",
         "1.0",
         "0.0",
         "3",
         "2.0",
         "0",
         "4",
         "29.125",
         "1",
         "0",
         "1",
         "0",
         "1"
        ],
        [
         "17",
         "1.0",
         "0.0",
         "1.0",
         "2",
         "29.69911764705882",
         "2",
         "0",
         "13.0",
         "0",
         "1",
         "4",
         "1",
         "1"
        ],
        [
         "18",
         "0.0",
         "0.0",
         "1.0",
         "3",
         "31.0",
         "2",
         "1",
         "18.0",
         "0",
         "0",
         "2",
         "0",
         "1"
        ],
        [
         "19",
         "0.0",
         "0.0",
         "0.0",
         "3",
         "29.69911764705882",
         "2",
         "0",
         "7.225",
         "0",
         "1",
         "2",
         "1",
         "0"
        ],
        [
         "20",
         "1.0",
         "0.0",
         "1.0",
         "2",
         "35.0",
         "2",
         "0",
         "26.0",
         "0",
         "0",
         "4",
         "1",
         "1"
        ],
        [
         "21",
         "1.0",
         "0.0",
         "1.0",
         "2",
         "34.0",
         "2",
         "0",
         "13.0",
         "0",
         "1",
         "4",
         "1",
         "1"
        ],
        [
         "22",
         "0.0",
         "1.0",
         "0.0",
         "3",
         "15.0",
         "1",
         "0",
         "8.0292",
         "0",
         "1",
         "3",
         "1",
         "0"
        ],
        [
         "23",
         "1.0",
         "0.0",
         "1.0",
         "1",
         "28.0",
         "2",
         "0",
         "35.5",
         "0",
         "1",
         "4",
         "1",
         "1"
        ],
        [
         "24",
         "0.0",
         "0.0",
         "1.0",
         "3",
         "8.0",
         "0",
         "3",
         "21.075",
         "1",
         "0",
         "3",
         "0",
         "1"
        ],
        [
         "25",
         "0.0",
         "0.0",
         "1.0",
         "3",
         "38.0",
         "2",
         "1",
         "31.3875",
         "5",
         "1",
         "2",
         "0",
         "1"
        ],
        [
         "26",
         "1.0",
         "0.0",
         "0.0",
         "3",
         "29.69911764705882",
         "2",
         "0",
         "7.225",
         "0",
         "0",
         "4",
         "1",
         "0"
        ],
        [
         "27",
         "1.0",
         "0.0",
         "1.0",
         "1",
         "19.0",
         "1",
         "3",
         "263.0",
         "2",
         "0",
         "4",
         "0",
         "2"
        ],
        [
         "28",
         "0.0",
         "1.0",
         "0.0",
         "3",
         "29.69911764705882",
         "2",
         "0",
         "7.8792",
         "0",
         "1",
         "3",
         "1",
         "0"
        ],
        [
         "29",
         "1.0",
         "0.0",
         "1.0",
         "3",
         "29.69911764705882",
         "2",
         "0",
         "7.8958",
         "0",
         "0",
         "4",
         "1",
         "0"
        ],
        [
         "30",
         "1.0",
         "0.0",
         "0.0",
         "1",
         "40.0",
         "2",
         "0",
         "27.7208",
         "0",
         "0",
         "4",
         "1",
         "1"
        ],
        [
         "31",
         "0.0",
         "0.0",
         "0.0",
         "1",
         "29.69911764705882",
         "2",
         "1",
         "146.5208",
         "0",
         "1",
         "2",
         "0",
         "2"
        ],
        [
         "32",
         "0.0",
         "1.0",
         "0.0",
         "3",
         "29.69911764705882",
         "2",
         "0",
         "7.75",
         "0",
         "1",
         "3",
         "1",
         "0"
        ],
        [
         "33",
         "1.0",
         "0.0",
         "1.0",
         "2",
         "66.0",
         "3",
         "0",
         "10.5",
         "0",
         "0",
         "4",
         "1",
         "1"
        ],
        [
         "34",
         "1.0",
         "0.0",
         "0.0",
         "1",
         "28.0",
         "2",
         "1",
         "82.1708",
         "0",
         "0",
         "4",
         "0",
         "2"
        ],
        [
         "35",
         "1.0",
         "0.0",
         "1.0",
         "1",
         "42.0",
         "2",
         "1",
         "52.0",
         "0",
         "0",
         "4",
         "0",
         "2"
        ],
        [
         "36",
         "1.0",
         "0.0",
         "0.0",
         "3",
         "29.69911764705882",
         "2",
         "0",
         "7.2292",
         "0",
         "1",
         "4",
         "1",
         "0"
        ],
        [
         "37",
         "1.0",
         "0.0",
         "1.0",
         "3",
         "21.0",
         "2",
         "0",
         "8.05",
         "0",
         "0",
         "4",
         "1",
         "0"
        ],
        [
         "38",
         "0.0",
         "0.0",
         "1.0",
         "3",
         "18.0",
         "1",
         "2",
         "18.0",
         "0",
         "0",
         "3",
         "0",
         "1"
        ],
        [
         "39",
         "0.0",
         "0.0",
         "0.0",
         "3",
         "14.0",
         "1",
         "1",
         "11.2417",
         "0",
         "1",
         "3",
         "0",
         "1"
        ],
        [
         "40",
         "0.0",
         "0.0",
         "1.0",
         "3",
         "40.0",
         "2",
         "1",
         "9.475",
         "0",
         "0",
         "2",
         "0",
         "0"
        ],
        [
         "41",
         "0.0",
         "0.0",
         "1.0",
         "2",
         "27.0",
         "2",
         "1",
         "21.0",
         "0",
         "0",
         "2",
         "0",
         "1"
        ],
        [
         "42",
         "1.0",
         "0.0",
         "0.0",
         "3",
         "29.69911764705882",
         "2",
         "0",
         "7.8958",
         "0",
         "0",
         "4",
         "1",
         "0"
        ],
        [
         "43",
         "0.0",
         "0.0",
         "0.0",
         "2",
         "3.0",
         "0",
         "1",
         "41.5792",
         "2",
         "1",
         "3",
         "0",
         "1"
        ],
        [
         "44",
         "0.0",
         "1.0",
         "0.0",
         "3",
         "19.0",
         "1",
         "0",
         "7.8792",
         "0",
         "1",
         "3",
         "1",
         "0"
        ],
        [
         "45",
         "1.0",
         "0.0",
         "1.0",
         "3",
         "29.69911764705882",
         "2",
         "0",
         "8.05",
         "0",
         "0",
         "4",
         "1",
         "0"
        ],
        [
         "46",
         "1.0",
         "1.0",
         "0.0",
         "3",
         "29.69911764705882",
         "2",
         "1",
         "15.5",
         "0",
         "0",
         "4",
         "0",
         "1"
        ],
        [
         "47",
         "0.0",
         "1.0",
         "0.0",
         "3",
         "29.69911764705882",
         "2",
         "0",
         "7.75",
         "0",
         "1",
         "3",
         "1",
         "0"
        ],
        [
         "48",
         "1.0",
         "0.0",
         "0.0",
         "3",
         "29.69911764705882",
         "2",
         "2",
         "21.6792",
         "0",
         "0",
         "4",
         "0",
         "1"
        ],
        [
         "49",
         "0.0",
         "0.0",
         "1.0",
         "3",
         "18.0",
         "1",
         "1",
         "17.8",
         "0",
         "0",
         "2",
         "0",
         "1"
        ]
       ],
       "shape": {
        "columns": 13,
        "rows": 891
       }
      },
      "text/html": [
       "<div>\n",
       "<style scoped>\n",
       "    .dataframe tbody tr th:only-of-type {\n",
       "        vertical-align: middle;\n",
       "    }\n",
       "\n",
       "    .dataframe tbody tr th {\n",
       "        vertical-align: top;\n",
       "    }\n",
       "\n",
       "    .dataframe thead th {\n",
       "        text-align: right;\n",
       "    }\n",
       "</style>\n",
       "<table border=\"1\" class=\"dataframe\">\n",
       "  <thead>\n",
       "    <tr style=\"text-align: right;\">\n",
       "      <th></th>\n",
       "      <th>Sex_male</th>\n",
       "      <th>Embarked_Q</th>\n",
       "      <th>Embarked_S</th>\n",
       "      <th>Pclass</th>\n",
       "      <th>Age</th>\n",
       "      <th>Age_group</th>\n",
       "      <th>SibSp</th>\n",
       "      <th>Fare</th>\n",
       "      <th>Parch</th>\n",
       "      <th>Survived</th>\n",
       "      <th>Title</th>\n",
       "      <th>Family_size</th>\n",
       "      <th>Fare_group</th>\n",
       "    </tr>\n",
       "  </thead>\n",
       "  <tbody>\n",
       "    <tr>\n",
       "      <th>0</th>\n",
       "      <td>1.0</td>\n",
       "      <td>0.0</td>\n",
       "      <td>1.0</td>\n",
       "      <td>3</td>\n",
       "      <td>22.000000</td>\n",
       "      <td>2</td>\n",
       "      <td>1</td>\n",
       "      <td>7.2500</td>\n",
       "      <td>0</td>\n",
       "      <td>0</td>\n",
       "      <td>4</td>\n",
       "      <td>0</td>\n",
       "      <td>0</td>\n",
       "    </tr>\n",
       "    <tr>\n",
       "      <th>1</th>\n",
       "      <td>0.0</td>\n",
       "      <td>0.0</td>\n",
       "      <td>0.0</td>\n",
       "      <td>1</td>\n",
       "      <td>38.000000</td>\n",
       "      <td>2</td>\n",
       "      <td>1</td>\n",
       "      <td>71.2833</td>\n",
       "      <td>0</td>\n",
       "      <td>1</td>\n",
       "      <td>2</td>\n",
       "      <td>0</td>\n",
       "      <td>2</td>\n",
       "    </tr>\n",
       "    <tr>\n",
       "      <th>2</th>\n",
       "      <td>0.0</td>\n",
       "      <td>0.0</td>\n",
       "      <td>1.0</td>\n",
       "      <td>3</td>\n",
       "      <td>26.000000</td>\n",
       "      <td>2</td>\n",
       "      <td>0</td>\n",
       "      <td>7.9250</td>\n",
       "      <td>0</td>\n",
       "      <td>1</td>\n",
       "      <td>3</td>\n",
       "      <td>1</td>\n",
       "      <td>0</td>\n",
       "    </tr>\n",
       "    <tr>\n",
       "      <th>3</th>\n",
       "      <td>0.0</td>\n",
       "      <td>0.0</td>\n",
       "      <td>1.0</td>\n",
       "      <td>1</td>\n",
       "      <td>35.000000</td>\n",
       "      <td>2</td>\n",
       "      <td>1</td>\n",
       "      <td>53.1000</td>\n",
       "      <td>0</td>\n",
       "      <td>1</td>\n",
       "      <td>2</td>\n",
       "      <td>0</td>\n",
       "      <td>2</td>\n",
       "    </tr>\n",
       "    <tr>\n",
       "      <th>4</th>\n",
       "      <td>1.0</td>\n",
       "      <td>0.0</td>\n",
       "      <td>1.0</td>\n",
       "      <td>3</td>\n",
       "      <td>35.000000</td>\n",
       "      <td>2</td>\n",
       "      <td>0</td>\n",
       "      <td>8.0500</td>\n",
       "      <td>0</td>\n",
       "      <td>0</td>\n",
       "      <td>4</td>\n",
       "      <td>1</td>\n",
       "      <td>0</td>\n",
       "    </tr>\n",
       "    <tr>\n",
       "      <th>...</th>\n",
       "      <td>...</td>\n",
       "      <td>...</td>\n",
       "      <td>...</td>\n",
       "      <td>...</td>\n",
       "      <td>...</td>\n",
       "      <td>...</td>\n",
       "      <td>...</td>\n",
       "      <td>...</td>\n",
       "      <td>...</td>\n",
       "      <td>...</td>\n",
       "      <td>...</td>\n",
       "      <td>...</td>\n",
       "      <td>...</td>\n",
       "    </tr>\n",
       "    <tr>\n",
       "      <th>886</th>\n",
       "      <td>1.0</td>\n",
       "      <td>0.0</td>\n",
       "      <td>1.0</td>\n",
       "      <td>2</td>\n",
       "      <td>27.000000</td>\n",
       "      <td>2</td>\n",
       "      <td>0</td>\n",
       "      <td>13.0000</td>\n",
       "      <td>0</td>\n",
       "      <td>0</td>\n",
       "      <td>0</td>\n",
       "      <td>1</td>\n",
       "      <td>1</td>\n",
       "    </tr>\n",
       "    <tr>\n",
       "      <th>887</th>\n",
       "      <td>0.0</td>\n",
       "      <td>0.0</td>\n",
       "      <td>1.0</td>\n",
       "      <td>1</td>\n",
       "      <td>19.000000</td>\n",
       "      <td>1</td>\n",
       "      <td>0</td>\n",
       "      <td>30.0000</td>\n",
       "      <td>0</td>\n",
       "      <td>1</td>\n",
       "      <td>3</td>\n",
       "      <td>1</td>\n",
       "      <td>1</td>\n",
       "    </tr>\n",
       "    <tr>\n",
       "      <th>888</th>\n",
       "      <td>0.0</td>\n",
       "      <td>0.0</td>\n",
       "      <td>1.0</td>\n",
       "      <td>3</td>\n",
       "      <td>29.699118</td>\n",
       "      <td>2</td>\n",
       "      <td>1</td>\n",
       "      <td>23.4500</td>\n",
       "      <td>2</td>\n",
       "      <td>0</td>\n",
       "      <td>3</td>\n",
       "      <td>0</td>\n",
       "      <td>1</td>\n",
       "    </tr>\n",
       "    <tr>\n",
       "      <th>889</th>\n",
       "      <td>1.0</td>\n",
       "      <td>0.0</td>\n",
       "      <td>0.0</td>\n",
       "      <td>1</td>\n",
       "      <td>26.000000</td>\n",
       "      <td>2</td>\n",
       "      <td>0</td>\n",
       "      <td>30.0000</td>\n",
       "      <td>0</td>\n",
       "      <td>1</td>\n",
       "      <td>4</td>\n",
       "      <td>1</td>\n",
       "      <td>1</td>\n",
       "    </tr>\n",
       "    <tr>\n",
       "      <th>890</th>\n",
       "      <td>1.0</td>\n",
       "      <td>1.0</td>\n",
       "      <td>0.0</td>\n",
       "      <td>3</td>\n",
       "      <td>32.000000</td>\n",
       "      <td>2</td>\n",
       "      <td>0</td>\n",
       "      <td>7.7500</td>\n",
       "      <td>0</td>\n",
       "      <td>0</td>\n",
       "      <td>4</td>\n",
       "      <td>1</td>\n",
       "      <td>0</td>\n",
       "    </tr>\n",
       "  </tbody>\n",
       "</table>\n",
       "<p>891 rows × 13 columns</p>\n",
       "</div>"
      ],
      "text/plain": [
       "     Sex_male  Embarked_Q  Embarked_S  Pclass        Age Age_group  SibSp  \\\n",
       "0         1.0         0.0         1.0       3  22.000000         2      1   \n",
       "1         0.0         0.0         0.0       1  38.000000         2      1   \n",
       "2         0.0         0.0         1.0       3  26.000000         2      0   \n",
       "3         0.0         0.0         1.0       1  35.000000         2      1   \n",
       "4         1.0         0.0         1.0       3  35.000000         2      0   \n",
       "..        ...         ...         ...     ...        ...       ...    ...   \n",
       "886       1.0         0.0         1.0       2  27.000000         2      0   \n",
       "887       0.0         0.0         1.0       1  19.000000         1      0   \n",
       "888       0.0         0.0         1.0       3  29.699118         2      1   \n",
       "889       1.0         0.0         0.0       1  26.000000         2      0   \n",
       "890       1.0         1.0         0.0       3  32.000000         2      0   \n",
       "\n",
       "        Fare  Parch  Survived  Title  Family_size Fare_group  \n",
       "0     7.2500      0         0      4            0          0  \n",
       "1    71.2833      0         1      2            0          2  \n",
       "2     7.9250      0         1      3            1          0  \n",
       "3    53.1000      0         1      2            0          2  \n",
       "4     8.0500      0         0      4            1          0  \n",
       "..       ...    ...       ...    ...          ...        ...  \n",
       "886  13.0000      0         0      0            1          1  \n",
       "887  30.0000      0         1      3            1          1  \n",
       "888  23.4500      2         0      3            0          1  \n",
       "889  30.0000      0         1      4            1          1  \n",
       "890   7.7500      0         0      4            1          0  \n",
       "\n",
       "[891 rows x 13 columns]"
      ]
     },
     "execution_count": 20,
     "metadata": {},
     "output_type": "execute_result"
    }
   ],
   "source": [
    "df_train"
   ]
  },
  {
   "cell_type": "code",
   "execution_count": 21,
   "metadata": {},
   "outputs": [
    {
     "data": {
      "text/plain": [
       "Sex_male       0\n",
       "Embarked_Q     0\n",
       "Embarked_S     0\n",
       "Pclass         0\n",
       "Age            0\n",
       "Age_group      0\n",
       "SibSp          0\n",
       "Fare           0\n",
       "Parch          0\n",
       "Survived       0\n",
       "Title          0\n",
       "Family_size    0\n",
       "Fare_group     0\n",
       "dtype: int64"
      ]
     },
     "execution_count": 21,
     "metadata": {},
     "output_type": "execute_result"
    }
   ],
   "source": [
    "df_train.isna().sum()"
   ]
  },
  {
   "attachments": {},
   "cell_type": "markdown",
   "metadata": {},
   "source": [
    "## Feature Scaling"
   ]
  },
  {
   "cell_type": "code",
   "execution_count": 22,
   "metadata": {},
   "outputs": [],
   "source": [
    "# from sklearn.preprocessing import StandardScaler\n",
    "# \n",
    "# ss_scaler = StandardScaler().set_output(transform = 'pandas')\n",
    "# \n",
    "# df_train = ss_scaler.fit_transform(df_train.drop('Survived', axis=1)).join(df_train['Survived'])\n",
    "# df_test = ss_scaler.transform(df_test)"
   ]
  },
  {
   "attachments": {},
   "cell_type": "markdown",
   "metadata": {},
   "source": [
    "## Model Fitting\n",
    "\n",
    "### 1. Logistic Regression"
   ]
  },
  {
   "cell_type": "code",
   "execution_count": 23,
   "metadata": {},
   "outputs": [
    {
     "name": "stdout",
     "output_type": "stream",
     "text": [
      "Best C: 0.08858667904100823\n",
      "Optimal Threshold: 0.25054477050829554\n",
      "=== Logistic Regression Metrics ===\n",
      "Accuracy for logistic regression is: 0.8212290502793296\n",
      "Precision for logistic regression is: 0.7941176470588235\n",
      "Recall for logistic regression is: 0.75\n",
      "False Positive Rate for logistic regression is: 0.25\n"
     ]
    }
   ],
   "source": [
    "from sklearn.model_selection import train_test_split\n",
    "from sklearn.linear_model import LogisticRegressionCV\n",
    "from sklearn.metrics import accuracy_score, precision_score, recall_score, roc_curve, precision_recall_curve\n",
    "\n",
    "X = df_train.drop('Survived', axis=1)\n",
    "y = df_train['Survived']\n",
    "X_train, X_test, y_train, y_test = train_test_split(X, y, test_size=0.2, random_state=33)\n",
    "\n",
    "lr_model = LogisticRegressionCV(Cs = np.logspace(-4,4,20),\n",
    "                                cv = 5,\n",
    "                                penalty='l2',\n",
    "                                solver='liblinear',\n",
    "                                scoring='accuracy',\n",
    "                                max_iter=500)\n",
    "lr_model = lr_model.fit(X_train, y_train)\n",
    "print(f\"Best C: {lr_model.C_[0]}\")\n",
    "\n",
    "y_pred = lr_model.predict(X_test)\n",
    "y_prob = lr_model.predict_proba(X_test)[:,1]\n",
    "\n",
    "fpr, tpr, _ = roc_curve(y_test, y_prob)\n",
    "precision_curve, recall_curve, thresholds = precision_recall_curve(y_test, y_prob)\n",
    "\n",
    "\n",
    "# Find the threshold that gives the best precision-recall tradeoff\n",
    "optimal_threshold = thresholds[np.argmax(precision_curve + recall_curve)]  \n",
    "print(\"Optimal Threshold:\", optimal_threshold)\n",
    "\n",
    "# Apply the new threshold\n",
    "y_pred_custom = (y_prob >= optimal_threshold).astype(int)\n",
    "\n",
    "print(f\"=== Logistic Regression Metrics ===\")\n",
    "print(f'Accuracy for logistic regression is: {accuracy_score(y_test, y_pred)}')\n",
    "print(f'Precision for logistic regression is: {precision_score(y_test, y_pred)}')\n",
    "print(f'Recall for logistic regression is: {recall_score(y_test, y_pred)}')\n",
    "print(f'False Positive Rate for logistic regression is: {1-recall_score(y_test, y_pred)}')\n"
   ]
  },
  {
   "cell_type": "code",
   "execution_count": 24,
   "metadata": {},
   "outputs": [
    {
     "data": {
      "image/png": "[encoded data removed]",
      "text/plain": [
       "<Figure size 600x500 with 1 Axes>"
      ]
     },
     "metadata": {},
     "output_type": "display_data"
    }
   ],
   "source": [
    "# Plot ROC Curve\n",
    "plt.figure(figsize=(6, 5))\n",
    "plt.plot(fpr, tpr, label=\"Logistic Regression\", color='blue')\n",
    "plt.plot([0, 1], [0, 1], linestyle=\"--\", color=\"gray\")  \n",
    "plt.xlabel(\"False Positive Rate (FPR)\")\n",
    "plt.ylabel(\"True Positive Rate (TPR)\")\n",
    "plt.title(\"ROC Curve - Logistic Regression\")\n",
    "plt.legend()\n",
    "plt.grid()\n",
    "plt.show()"
   ]
  },
  {
   "cell_type": "code",
   "execution_count": 25,
   "metadata": {},
   "outputs": [
    {
     "data": {
      "image/png": "[encoded data removed]",
      "text/plain": [
       "<Figure size 600x500 with 1 Axes>"
      ]
     },
     "metadata": {},
     "output_type": "display_data"
    }
   ],
   "source": [
    "# Plot Precision-Recall Curve\n",
    "plt.figure(figsize=(6, 5))\n",
    "plt.plot(recall_curve, precision_curve, label=\"Precision-Recall Curve\", color='green')\n",
    "plt.xlabel(\"Recall\")\n",
    "plt.ylabel(\"Precision\")\n",
    "plt.title(\"Precision-Recall Curve - Logistic Regression\")\n",
    "plt.legend()\n",
    "plt.grid()\n",
    "plt.show()"
   ]
  },
  {
   "attachments": {},
   "cell_type": "markdown",
   "metadata": {},
   "source": [
    "### 2. LDA"
   ]
  },
  {
   "cell_type": "code",
   "execution_count": 29,
   "metadata": {},
   "outputs": [
    {
     "name": "stdout",
     "output_type": "stream",
     "text": [
      "=== Linear Discriminant Analysis Metrics ===\n",
      "Accuracy for LDA is: 0.8100558659217877\n",
      "Precision for LDA is: 0.7714285714285715\n",
      "Recall for LDA is: 0.75\n",
      "False Positive Rate for LDA is: 0.25\n"
     ]
    }
   ],
   "source": [
    "from sklearn.model_selection import train_test_split\n",
    "from sklearn.discriminant_analysis import LinearDiscriminantAnalysis\n",
    "from sklearn.metrics import accuracy_score, precision_score, recall_score, roc_curve, precision_recall_curve\n",
    "\n",
    "X = df_train.drop('Survived', axis=1)\n",
    "y = df_train['Survived']\n",
    "X_train, X_test, y_train, y_test = train_test_split(X, y, test_size=0.2, random_state=33)\n",
    "\n",
    "lda = LinearDiscriminantAnalysis()\n",
    "\n",
    "lda = lda.fit(X_train, y_train)\n",
    "\n",
    "y_pred = lda.predict(X_test)\n",
    "y_prob = lda.predict_proba(X_test)[:, 1] \n",
    "\n",
    "fpr, tpr, _ = roc_curve(y_test, y_prob)\n",
    "\n",
    "precision_curve, recall_curve, _ = precision_recall_curve(y_test, y_prob)\n",
    "\n",
    "print(f\"=== Linear Discriminant Analysis Metrics ===\")\n",
    "print(f'Accuracy for LDA is: {accuracy_score(y_test, y_pred)}')\n",
    "print(f'Precision for LDA is: {precision_score(y_test, y_pred)}')\n",
    "print(f'Recall for LDA is: {recall_score(y_test, y_pred)}')\n",
    "print(f'False Positive Rate for LDA is: {1-recall_score(y_test, y_pred)}')"
   ]
  },
  {
   "cell_type": "code",
   "execution_count": 30,
   "metadata": {},
   "outputs": [
    {
     "data": {
      "image/png": "[encoded data removed]",
      "text/plain": [
       "<Figure size 600x500 with 1 Axes>"
      ]
     },
     "metadata": {},
     "output_type": "display_data"
    }
   ],
   "source": [
    "# Plot ROC Curve\n",
    "plt.figure(figsize=(6, 5))\n",
    "plt.plot(fpr, tpr, label=\"LDA\", color='blue')\n",
    "plt.plot([0, 1], [0, 1], linestyle=\"--\", color=\"gray\")  \n",
    "plt.xlabel(\"False Positive Rate (FPR)\")\n",
    "plt.ylabel(\"True Positive Rate (TPR)\")\n",
    "plt.title(\"ROC Curve - LDA\")\n",
    "plt.legend()\n",
    "plt.grid()\n",
    "plt.show()"
   ]
  },
  {
   "cell_type": "code",
   "execution_count": 31,
   "metadata": {},
   "outputs": [
    {
     "data": {
      "image/png": "[encoded data removed]",
      "text/plain": [
       "<Figure size 600x500 with 1 Axes>"
      ]
     },
     "metadata": {},
     "output_type": "display_data"
    }
   ],
   "source": [
    "plt.figure(figsize=(6, 5))\n",
    "plt.plot(recall_curve, precision_curve, label=\"Precision-Recall Curve\", color='green')\n",
    "plt.xlabel(\"Recall\")\n",
    "plt.ylabel(\"Precision\")\n",
    "plt.title(\"Precision-Recall Curve - LDA\")\n",
    "plt.legend()\n",
    "plt.grid()\n",
    "plt.show()"
   ]
  },
  {
   "attachments": {},
   "cell_type": "markdown",
   "metadata": {},
   "source": [
    "### 3. KNN"
   ]
  },
  {
   "cell_type": "code",
   "execution_count": 95,
   "metadata": {},
   "outputs": [
    {
     "name": "stdout",
     "output_type": "stream",
     "text": [
      "Best parameters: {'metric': 'manhattan', 'n_neighbors': 20, 'weights': 'distance'}\n",
      "=== KNN Metrics ===\n",
      "Accuracy for KNN is: 0.8100558659217877\n",
      "Precision for KNN is: 0.8064516129032258\n",
      "Recall for KNN is: 0.6944444444444444\n",
      "False Positive Rate for KNN is: 0.3055555555555556\n"
     ]
    }
   ],
   "source": [
    "from sklearn.model_selection import train_test_split, GridSearchCV\n",
    "from sklearn.neighbors import KNeighborsClassifier\n",
    "from sklearn.metrics import accuracy_score\n",
    "\n",
    "X = df_train.drop('Survived', axis=1)\n",
    "y = df_train['Survived']\n",
    "X_train, X_test, y_train, y_test = train_test_split(X, y, test_size=0.2, random_state=33)\n",
    "\n",
    "param_grid = {\n",
    "    'n_neighbors': np.arange(1, 21),\n",
    "    'weights': [\"uniform\", \"distance\"],\n",
    "    'metric': [\"euclidean\", \"manhattan\", \"minkowski\"]\n",
    "}\n",
    "\n",
    "\n",
    "grid_search = GridSearchCV(\n",
    "    estimator = KNeighborsClassifier(),\n",
    "    param_grid= param_grid,\n",
    "    cv = 5,\n",
    "    scoring= 'accuracy',\n",
    "    n_jobs= -1\n",
    ")\n",
    "\n",
    "grid_search.fit(X_train, y_train)\n",
    "\n",
    "print(\"Best parameters:\", grid_search.best_params_)\n",
    "\n",
    "knn_model = grid_search.best_estimator_\n",
    "y_pred = knn_model.predict(X_test)\n",
    "y_prob = knn_model.predict_proba(X_test)[:, 1]\n",
    "\n",
    "# Compute ROC metrics (TPR and FPR)\n",
    "fpr_values, tpr_values, _ = roc_curve(y_test, y_prob)\n",
    "\n",
    "# Compute Precision-Recall Curve\n",
    "precision_curve, recall_curve, _ = precision_recall_curve(y_test, y_prob)\n",
    "\n",
    "print(f\"=== KNN Metrics ===\")\n",
    "print(f'Accuracy for KNN is: {accuracy_score(y_test, y_pred)}')\n",
    "print(f'Precision for KNN is: {precision_score(y_test, y_pred)}')\n",
    "print(f'Recall for KNN is: {recall_score(y_test, y_pred)}')\n",
    "print(f'False Positive Rate for KNN is: {1-recall_score(y_test, y_pred)}')"
   ]
  },
  {
   "cell_type": "code",
   "execution_count": 96,
   "metadata": {},
   "outputs": [
    {
     "data": {
      "image/png": "[encoded data removed]",
      "text/plain": [
       "<Figure size 600x500 with 1 Axes>"
      ]
     },
     "metadata": {},
     "output_type": "display_data"
    }
   ],
   "source": [
    "# Plot ROC Curve\n",
    "plt.figure(figsize=(6, 5))\n",
    "plt.plot(fpr_values, tpr_values, label=\"KNN\", color='blue')\n",
    "plt.plot([0, 1], [0, 1], linestyle=\"--\", color=\"gray\")  # Diagonal line (random classifier)\n",
    "plt.xlabel(\"False Positive Rate (FPR)\")\n",
    "plt.ylabel(\"True Positive Rate (TPR)\")\n",
    "plt.title(\"ROC Curve - KNN\")\n",
    "plt.legend()\n",
    "plt.grid()\n",
    "plt.show()"
   ]
  },
  {
   "cell_type": "code",
   "execution_count": 97,
   "metadata": {},
   "outputs": [
    {
     "data": {
      "image/png": "[encoded data removed]",
      "text/plain": [
       "<Figure size 600x500 with 1 Axes>"
      ]
     },
     "metadata": {},
     "output_type": "display_data"
    }
   ],
   "source": [
    "# Plot Precision-Recall Curve\n",
    "plt.figure(figsize=(6, 5))\n",
    "plt.plot(recall_curve, precision_curve, label=\"Precision-Recall Curve\", color='green')\n",
    "plt.xlabel(\"Recall\")\n",
    "plt.ylabel(\"Precision\")\n",
    "plt.title(\"Precision-Recall Curve - KNN\")\n",
    "plt.legend()\n",
    "plt.grid()\n",
    "plt.show()"
   ]
  },
  {
   "attachments": {},
   "cell_type": "markdown",
   "metadata": {},
   "source": [
    "### Model Assumptions"
   ]
  },
  {
   "attachments": {},
   "cell_type": "markdown",
   "metadata": {},
   "source": [
    "Since KNN is a non-parametric techinque, there is no strict model assumptions"
   ]
  },
  {
   "attachments": {},
   "cell_type": "markdown",
   "metadata": {},
   "source": [
    "## Random Forest"
   ]
  },
  {
   "cell_type": "code",
   "execution_count": 34,
   "metadata": {},
   "outputs": [
    {
     "name": "stdout",
     "output_type": "stream",
     "text": [
      "Best parameters: {'criterion': 'entropy', 'max_depth': 120, 'max_features': 2, 'max_samples': 0.95, 'min_samples_leaf': 3, 'min_samples_split': 7, 'n_estimators': 110}\n",
      "Accuracy for Random Forest is: 0.8715083798882681\n"
     ]
    }
   ],
   "source": [
    "from sklearn.ensemble import RandomForestClassifier\n",
    "from sklearn.model_selection import train_test_split, GridSearchCV\n",
    "from sklearn.metrics import accuracy_score\n",
    "\n",
    "X = df_train.drop('Survived', axis=1)\n",
    "y = df_train['Survived']\n",
    "X_train, X_test, y_train, y_test = train_test_split(X, y, test_size=0.2, random_state=33)\n",
    "\n",
    "param_grid = {\n",
    "    'n_estimators': [110, 120, 130],  \n",
    "    'max_depth': [110, 120, 130],     \n",
    "    'max_features': [2, 3],           \n",
    "    'criterion': ['entropy'],         \n",
    "    'min_samples_split': [5, 6, 7],  \n",
    "    'min_samples_leaf': [3, 4, 5],   \n",
    "    'max_samples': [0.85, 0.9, 0.95]  \n",
    "}\n",
    "\n",
    "grid_search = GridSearchCV(estimator=RandomForestClassifier(),param_grid=param_grid, cv=5, scoring='accuracy', n_jobs=-1)\n",
    "\n",
    "grid_search.fit(X_train, y_train)\n",
    "\n",
    "print(\"Best parameters:\", grid_search.best_params_)\n",
    "\n",
    "rf_model = grid_search.best_estimator_\n",
    "y_pred = rf_model.predict(X_test)\n",
    "\n",
    "\n",
    "print(f'Accuracy for Random Forest is: {accuracy_score(y_test, y_pred)}')"
   ]
  },
  {
   "attachments": {},
   "cell_type": "markdown",
   "metadata": {},
   "source": [
    "## XGBoost"
   ]
  },
  {
   "cell_type": "code",
   "execution_count": 35,
   "metadata": {},
   "outputs": [
    {
     "name": "stderr",
     "output_type": "stream",
     "text": [
      "[I 2025-02-09 16:25:02,995] A new study created in memory with name: no-name-f3d0224f-2857-464d-b847-4901a295651d\n",
      "[I 2025-02-09 16:25:03,197] Trial 0 finished with value: 0.8379888268156425 and parameters: {'n_estimators': 202, 'max_depth': 4, 'learning_rate': 0.2618338291372856, 'subsample': 0.8241284722851298, 'colsample_bytree': 0.9052038246606597, 'gamma': 0.02270508902286117, 'reg_alpha': 0.835717057986986, 'reg_lambda': 0.6284426632145, 'min_child_weight': 4}. Best is trial 0 with value: 0.8379888268156425.\n",
      "[I 2025-02-09 16:25:03,352] Trial 1 finished with value: 0.8547486033519553 and parameters: {'n_estimators': 166, 'max_depth': 4, 'learning_rate': 0.01779283009753491, 'subsample': 0.9131897749422605, 'colsample_bytree': 0.9590722315435882, 'gamma': 0.15622919540436206, 'reg_alpha': 0.02080578095887531, 'reg_lambda': 0.8746313668595156, 'min_child_weight': 1}. Best is trial 1 with value: 0.8547486033519553.\n",
      "[I 2025-02-09 16:25:03,934] Trial 2 finished with value: 0.8156424581005587 and parameters: {'n_estimators': 448, 'max_depth': 10, 'learning_rate': 0.1323719597288358, 'subsample': 0.8528297115470775, 'colsample_bytree': 0.9478373047145578, 'gamma': 0.02636463529649309, 'reg_alpha': 0.694199980956597, 'reg_lambda': 0.11449693465191324, 'min_child_weight': 3}. Best is trial 1 with value: 0.8547486033519553.\n",
      "[I 2025-02-09 16:25:04,128] Trial 3 finished with value: 0.8268156424581006 and parameters: {'n_estimators': 211, 'max_depth': 7, 'learning_rate': 0.22951165965757797, 'subsample': 0.9563961937134355, 'colsample_bytree': 0.8555706683189848, 'gamma': 0.1994985677145935, 'reg_alpha': 0.24046450363588967, 'reg_lambda': 0.043461845608391836, 'min_child_weight': 5}. Best is trial 1 with value: 0.8547486033519553.\n",
      "[I 2025-02-09 16:25:04,569] Trial 4 finished with value: 0.8435754189944135 and parameters: {'n_estimators': 430, 'max_depth': 5, 'learning_rate': 0.09537830085424097, 'subsample': 0.8125649736906323, 'colsample_bytree': 0.9889388073117862, 'gamma': 0.1446387306743792, 'reg_alpha': 0.4734204078654344, 'reg_lambda': 0.8939237814509918, 'min_child_weight': 5}. Best is trial 1 with value: 0.8547486033519553.\n",
      "[I 2025-02-09 16:25:04,994] Trial 5 finished with value: 0.8268156424581006 and parameters: {'n_estimators': 412, 'max_depth': 8, 'learning_rate': 0.1685255445001271, 'subsample': 0.9584092685290123, 'colsample_bytree': 0.8412424249808008, 'gamma': 0.07103842710071895, 'reg_alpha': 0.42320178099947325, 'reg_lambda': 0.9930548317144745, 'min_child_weight': 5}. Best is trial 1 with value: 0.8547486033519553.\n",
      "[I 2025-02-09 16:25:05,171] Trial 6 finished with value: 0.8268156424581006 and parameters: {'n_estimators': 138, 'max_depth': 10, 'learning_rate': 0.19693494641255851, 'subsample': 0.9064922853128624, 'colsample_bytree': 0.9869359052489126, 'gamma': 0.11116261119451272, 'reg_alpha': 0.5856120085299235, 'reg_lambda': 0.5448322308291228, 'min_child_weight': 1}. Best is trial 1 with value: 0.8547486033519553.\n",
      "[I 2025-02-09 16:25:05,631] Trial 7 finished with value: 0.8324022346368715 and parameters: {'n_estimators': 450, 'max_depth': 6, 'learning_rate': 0.11723264590576962, 'subsample': 0.8676200454031915, 'colsample_bytree': 0.8567130218311508, 'gamma': 0.10274018712421491, 'reg_alpha': 0.7682643322697982, 'reg_lambda': 0.6185562681941698, 'min_child_weight': 1}. Best is trial 1 with value: 0.8547486033519553.\n",
      "[I 2025-02-09 16:25:05,946] Trial 8 finished with value: 0.8212290502793296 and parameters: {'n_estimators': 362, 'max_depth': 7, 'learning_rate': 0.29211809593850435, 'subsample': 0.9588826949357911, 'colsample_bytree': 0.9598232985780384, 'gamma': 0.050692848927923695, 'reg_alpha': 0.5858673793512559, 'reg_lambda': 0.674024342075061, 'min_child_weight': 1}. Best is trial 1 with value: 0.8547486033519553.\n",
      "[I 2025-02-09 16:25:06,312] Trial 9 finished with value: 0.8435754189944135 and parameters: {'n_estimators': 267, 'max_depth': 10, 'learning_rate': 0.06530770268459098, 'subsample': 0.8836718707674296, 'colsample_bytree': 0.9064447826464326, 'gamma': 0.010984389255763661, 'reg_alpha': 0.4905067245764163, 'reg_lambda': 0.20150663747686748, 'min_child_weight': 5}. Best is trial 1 with value: 0.8547486033519553.\n",
      "[I 2025-02-09 16:25:06,429] Trial 10 finished with value: 0.8379888268156425 and parameters: {'n_estimators': 112, 'max_depth': 3, 'learning_rate': 0.016721672750050487, 'subsample': 0.9973611274365786, 'colsample_bytree': 0.8116989332258642, 'gamma': 0.17719391237920057, 'reg_alpha': 0.16013486539488753, 'reg_lambda': 0.8151711140550658, 'min_child_weight': 2}. Best is trial 1 with value: 0.8547486033519553.\n",
      "[I 2025-02-09 16:25:06,832] Trial 11 finished with value: 0.8547486033519553 and parameters: {'n_estimators': 332, 'max_depth': 5, 'learning_rate': 0.011152065329883817, 'subsample': 0.9169706276058229, 'colsample_bytree': 0.9959464321448607, 'gamma': 0.14667701673998737, 'reg_alpha': 0.040491505490813054, 'reg_lambda': 0.9816733055148442, 'min_child_weight': 3}. Best is trial 1 with value: 0.8547486033519553.\n",
      "[I 2025-02-09 16:25:07,085] Trial 12 finished with value: 0.8379888268156425 and parameters: {'n_estimators': 300, 'max_depth': 3, 'learning_rate': 0.015030306658643484, 'subsample': 0.9220301622249056, 'colsample_bytree': 0.9489635477225016, 'gamma': 0.1496896145271644, 'reg_alpha': 0.006880274768156669, 'reg_lambda': 0.3331272242635575, 'min_child_weight': 3}. Best is trial 1 with value: 0.8547486033519553.\n",
      "[I 2025-02-09 16:25:07,471] Trial 13 finished with value: 0.8156424581005587 and parameters: {'n_estimators': 355, 'max_depth': 5, 'learning_rate': 0.06048380176841012, 'subsample': 0.9256823120501855, 'colsample_bytree': 0.9996231804896247, 'gamma': 0.13856688172030074, 'reg_alpha': 0.013307332295087182, 'reg_lambda': 0.8355063958977733, 'min_child_weight': 2}. Best is trial 1 with value: 0.8547486033519553.\n",
      "[I 2025-02-09 16:25:07,778] Trial 14 finished with value: 0.8491620111731844 and parameters: {'n_estimators': 233, 'max_depth': 5, 'learning_rate': 0.05502835829948788, 'subsample': 0.8964774158148466, 'colsample_bytree': 0.9306319084909963, 'gamma': 0.16781914859425015, 'reg_alpha': 0.25801170791404127, 'reg_lambda': 0.9878823486955858, 'min_child_weight': 2}. Best is trial 1 with value: 0.8547486033519553.\n",
      "[I 2025-02-09 16:25:08,128] Trial 15 finished with value: 0.8603351955307262 and parameters: {'n_estimators': 360, 'max_depth': 4, 'learning_rate': 0.010315406219742041, 'subsample': 0.9335373615789204, 'colsample_bytree': 0.9694231718308803, 'gamma': 0.13153763571373553, 'reg_alpha': 0.139111283120905, 'reg_lambda': 0.41673831939487, 'min_child_weight': 4}. Best is trial 15 with value: 0.8603351955307262.\n",
      "[I 2025-02-09 16:25:08,310] Trial 16 finished with value: 0.8491620111731844 and parameters: {'n_estimators': 160, 'max_depth': 4, 'learning_rate': 0.08917106397413137, 'subsample': 0.9435160143128696, 'colsample_bytree': 0.9699595368859686, 'gamma': 0.11679008271910607, 'reg_alpha': 0.320736869620611, 'reg_lambda': 0.3962113240616449, 'min_child_weight': 4}. Best is trial 15 with value: 0.8603351955307262.\n",
      "[I 2025-02-09 16:25:08,881] Trial 17 finished with value: 0.8379888268156425 and parameters: {'n_estimators': 382, 'max_depth': 4, 'learning_rate': 0.04301825390131719, 'subsample': 0.9869480124927688, 'colsample_bytree': 0.9304638122737365, 'gamma': 0.08209639860267798, 'reg_alpha': 0.1520443778937598, 'reg_lambda': 0.4384410253612698, 'min_child_weight': 4}. Best is trial 15 with value: 0.8603351955307262.\n",
      "[I 2025-02-09 16:25:09,245] Trial 18 finished with value: 0.8212290502793296 and parameters: {'n_estimators': 499, 'max_depth': 3, 'learning_rate': 0.1619167851584875, 'subsample': 0.849745716017871, 'colsample_bytree': 0.9269684902655426, 'gamma': 0.1266082726736619, 'reg_alpha': 0.9992142445846436, 'reg_lambda': 0.2660402409912696, 'min_child_weight': 4}. Best is trial 15 with value: 0.8603351955307262.\n",
      "[I 2025-02-09 16:25:09,593] Trial 19 finished with value: 0.8212290502793296 and parameters: {'n_estimators': 314, 'max_depth': 6, 'learning_rate': 0.09261018619810565, 'subsample': 0.9383103011784258, 'colsample_bytree': 0.971097385086764, 'gamma': 0.17053064110196778, 'reg_alpha': 0.13073448960035097, 'reg_lambda': 0.725690075745653, 'min_child_weight': 2}. Best is trial 15 with value: 0.8603351955307262.\n",
      "[I 2025-02-09 16:25:10,002] Trial 20 finished with value: 0.8212290502793296 and parameters: {'n_estimators': 268, 'max_depth': 8, 'learning_rate': 0.04262207835482596, 'subsample': 0.9808638978700599, 'colsample_bytree': 0.8810935996247384, 'gamma': 0.08683964106764638, 'reg_alpha': 0.3515774991379127, 'reg_lambda': 0.48227458963315484, 'min_child_weight': 3}. Best is trial 15 with value: 0.8603351955307262.\n",
      "[I 2025-02-09 16:25:10,322] Trial 21 finished with value: 0.8491620111731844 and parameters: {'n_estimators': 324, 'max_depth': 4, 'learning_rate': 0.024947404021891995, 'subsample': 0.9095605483757099, 'colsample_bytree': 0.9788427615649966, 'gamma': 0.153091982853496, 'reg_alpha': 0.08149449035035233, 'reg_lambda': 0.90348273862494, 'min_child_weight': 3}. Best is trial 15 with value: 0.8603351955307262.\n",
      "[I 2025-02-09 16:25:10,644] Trial 22 finished with value: 0.8603351955307262 and parameters: {'n_estimators': 279, 'max_depth': 5, 'learning_rate': 0.015513592815379517, 'subsample': 0.9259203820600082, 'colsample_bytree': 0.9959674681751268, 'gamma': 0.18627053719803074, 'reg_alpha': 0.07482436882390955, 'reg_lambda': 0.7558067099829676, 'min_child_weight': 4}. Best is trial 15 with value: 0.8603351955307262.\n",
      "[I 2025-02-09 16:25:10,832] Trial 23 finished with value: 0.8379888268156425 and parameters: {'n_estimators': 182, 'max_depth': 4, 'learning_rate': 0.07513946181887607, 'subsample': 0.8837793674145191, 'colsample_bytree': 0.950283725574166, 'gamma': 0.19854075454149675, 'reg_alpha': 0.23965744048193915, 'reg_lambda': 0.7480254303406684, 'min_child_weight': 4}. Best is trial 15 with value: 0.8603351955307262.\n",
      "[I 2025-02-09 16:25:11,161] Trial 24 finished with value: 0.8435754189944135 and parameters: {'n_estimators': 248, 'max_depth': 6, 'learning_rate': 0.03515429732141109, 'subsample': 0.9342716642793986, 'colsample_bytree': 0.9652148593425453, 'gamma': 0.18506061219558007, 'reg_alpha': 0.10652586820161102, 'reg_lambda': 0.5212679233013459, 'min_child_weight': 4}. Best is trial 15 with value: 0.8603351955307262.\n",
      "[I 2025-02-09 16:25:11,293] Trial 25 finished with value: 0.8435754189944135 and parameters: {'n_estimators': 103, 'max_depth': 5, 'learning_rate': 0.11119531782154403, 'subsample': 0.8910454050822043, 'colsample_bytree': 0.9207564792581772, 'gamma': 0.1291836171036701, 'reg_alpha': 0.2093351405792294, 'reg_lambda': 0.7900670638810346, 'min_child_weight': 4}. Best is trial 15 with value: 0.8603351955307262.\n",
      "[I 2025-02-09 16:25:11,520] Trial 26 finished with value: 0.8379888268156425 and parameters: {'n_estimators': 275, 'max_depth': 3, 'learning_rate': 0.03986211466211627, 'subsample': 0.9726151028257108, 'colsample_bytree': 0.9787770623677816, 'gamma': 0.16376179687720047, 'reg_alpha': 0.3276200321147029, 'reg_lambda': 0.5804733943763891, 'min_child_weight': 3}. Best is trial 15 with value: 0.8603351955307262.\n",
      "[I 2025-02-09 16:25:11,905] Trial 27 finished with value: 0.8435754189944135 and parameters: {'n_estimators': 402, 'max_depth': 4, 'learning_rate': 0.01140717945785749, 'subsample': 0.9455985824425179, 'colsample_bytree': 0.9546457191640618, 'gamma': 0.1846232055265118, 'reg_alpha': 0.0962059662229826, 'reg_lambda': 0.3571989393487, 'min_child_weight': 5}. Best is trial 15 with value: 0.8603351955307262.\n",
      "[I 2025-02-09 16:25:12,118] Trial 28 finished with value: 0.8603351955307262 and parameters: {'n_estimators': 157, 'max_depth': 6, 'learning_rate': 0.07822501644956062, 'subsample': 0.8693780334262241, 'colsample_bytree': 0.8824104800580912, 'gamma': 0.1600961366753952, 'reg_alpha': 0.18123749382716048, 'reg_lambda': 0.6925564118709551, 'min_child_weight': 4}. Best is trial 15 with value: 0.8603351955307262.\n",
      "[I 2025-02-09 16:25:12,394] Trial 29 finished with value: 0.8379888268156425 and parameters: {'n_estimators': 208, 'max_depth': 7, 'learning_rate': 0.13946996364263892, 'subsample': 0.8436774049318302, 'colsample_bytree': 0.8946777676582411, 'gamma': 0.13345361785143184, 'reg_alpha': 0.37337862851485215, 'reg_lambda': 0.7018820050518133, 'min_child_weight': 4}. Best is trial 15 with value: 0.8603351955307262.\n",
      "[I 2025-02-09 16:25:12,846] Trial 30 finished with value: 0.8379888268156425 and parameters: {'n_estimators': 343, 'max_depth': 8, 'learning_rate': 0.07689765274640144, 'subsample': 0.8690647637928641, 'colsample_bytree': 0.8813424074339883, 'gamma': 0.187299313767397, 'reg_alpha': 0.18408556620463395, 'reg_lambda': 0.6192630820974319, 'min_child_weight': 4}. Best is trial 15 with value: 0.8603351955307262.\n",
      "[I 2025-02-09 16:25:13,069] Trial 31 finished with value: 0.8491620111731844 and parameters: {'n_estimators': 161, 'max_depth': 6, 'learning_rate': 0.04973734611064062, 'subsample': 0.8698431259673364, 'colsample_bytree': 0.9098052391010917, 'gamma': 0.15840497678959337, 'reg_alpha': 0.04853758302960881, 'reg_lambda': 0.8757922716444322, 'min_child_weight': 3}. Best is trial 15 with value: 0.8603351955307262.\n",
      "[I 2025-02-09 16:25:13,242] Trial 32 finished with value: 0.8491620111731844 and parameters: {'n_estimators': 139, 'max_depth': 5, 'learning_rate': 0.032691361875637474, 'subsample': 0.8350066110857557, 'colsample_bytree': 0.9396839461356545, 'gamma': 0.1604791901604932, 'reg_alpha': 0.0836022695590325, 'reg_lambda': 0.6575134103938771, 'min_child_weight': 4}. Best is trial 15 with value: 0.8603351955307262.\n",
      "[I 2025-02-09 16:25:13,439] Trial 33 finished with value: 0.8491620111731844 and parameters: {'n_estimators': 190, 'max_depth': 4, 'learning_rate': 0.03163065221439414, 'subsample': 0.9067362030393095, 'colsample_bytree': 0.8830196154408964, 'gamma': 0.174665430098896, 'reg_alpha': 0.28532470595234205, 'reg_lambda': 0.7616677775003518, 'min_child_weight': 5}. Best is trial 15 with value: 0.8603351955307262.\n",
      "[I 2025-02-09 16:25:13,738] Trial 34 finished with value: 0.8379888268156425 and parameters: {'n_estimators': 227, 'max_depth': 6, 'learning_rate': 0.06915796596649876, 'subsample': 0.9285690699537031, 'colsample_bytree': 0.8698983373487258, 'gamma': 0.1245846887502493, 'reg_alpha': 0.1779990091587538, 'reg_lambda': 0.8367740270643604, 'min_child_weight': 4}. Best is trial 15 with value: 0.8603351955307262.\n",
      "[I 2025-02-09 16:25:13,938] Trial 35 finished with value: 0.8324022346368715 and parameters: {'n_estimators': 171, 'max_depth': 5, 'learning_rate': 0.10925170930698552, 'subsample': 0.9165148373618638, 'colsample_bytree': 0.8366420723296268, 'gamma': 0.19839697245901675, 'reg_alpha': 0.06301824292165167, 'reg_lambda': 0.908361781883428, 'min_child_weight': 3}. Best is trial 15 with value: 0.8603351955307262.\n",
      "[I 2025-02-09 16:25:14,108] Trial 36 finished with value: 0.8491620111731844 and parameters: {'n_estimators': 139, 'max_depth': 5, 'learning_rate': 0.19090382677606027, 'subsample': 0.9499179512292903, 'colsample_bytree': 0.9800994883677264, 'gamma': 0.1395355495132763, 'reg_alpha': 0.0016997849170105328, 'reg_lambda': 0.46550144839705915, 'min_child_weight': 5}. Best is trial 15 with value: 0.8603351955307262.\n",
      "[I 2025-02-09 16:25:14,463] Trial 37 finished with value: 0.8435754189944135 and parameters: {'n_estimators': 297, 'max_depth': 9, 'learning_rate': 0.13673666789741615, 'subsample': 0.8846330128132169, 'colsample_bytree': 0.9871366641975752, 'gamma': 0.10928363542286038, 'reg_alpha': 0.41518560645666, 'reg_lambda': 0.007260518341677624, 'min_child_weight': 1}. Best is trial 15 with value: 0.8603351955307262.\n",
      "[I 2025-02-09 16:25:14,767] Trial 38 finished with value: 0.8212290502793296 and parameters: {'n_estimators': 378, 'max_depth': 3, 'learning_rate': 0.25851813458472184, 'subsample': 0.8127182953461927, 'colsample_bytree': 0.9419062401527732, 'gamma': 0.09507885714207759, 'reg_alpha': 0.13680542225907555, 'reg_lambda': 0.5700487667230478, 'min_child_weight': 5}. Best is trial 15 with value: 0.8603351955307262.\n",
      "[I 2025-02-09 16:25:15,366] Trial 39 finished with value: 0.8491620111731844 and parameters: {'n_estimators': 433, 'max_depth': 7, 'learning_rate': 0.027660676073364934, 'subsample': 0.9654507278029132, 'colsample_bytree': 0.9630265403342547, 'gamma': 0.05815875659843257, 'reg_alpha': 0.5718462152805845, 'reg_lambda': 0.9398639260873219, 'min_child_weight': 4}. Best is trial 15 with value: 0.8603351955307262.\n",
      "[I 2025-02-09 16:25:15,508] Trial 40 finished with value: 0.8547486033519553 and parameters: {'n_estimators': 128, 'max_depth': 4, 'learning_rate': 0.05852298652733082, 'subsample': 0.8601002613079775, 'colsample_bytree': 0.8950188818536771, 'gamma': 0.15203660487651535, 'reg_alpha': 0.6810698845499177, 'reg_lambda': 0.14738012236036008, 'min_child_weight': 2}. Best is trial 15 with value: 0.8603351955307262.\n",
      "[I 2025-02-09 16:25:15,910] Trial 41 finished with value: 0.8603351955307262 and parameters: {'n_estimators': 347, 'max_depth': 5, 'learning_rate': 0.010945732437907113, 'subsample': 0.9155655846260322, 'colsample_bytree': 0.9929489722375706, 'gamma': 0.1438367971336501, 'reg_alpha': 0.048496097895723886, 'reg_lambda': 0.9733778757541398, 'min_child_weight': 3}. Best is trial 15 with value: 0.8603351955307262.\n",
      "[I 2025-02-09 16:25:16,469] Trial 42 finished with value: 0.8491620111731844 and parameters: {'n_estimators': 397, 'max_depth': 6, 'learning_rate': 0.010115969380143584, 'subsample': 0.8955964377799136, 'colsample_bytree': 0.9928126806504616, 'gamma': 0.1187133447245582, 'reg_alpha': 0.2095736882955173, 'reg_lambda': 0.863221613242031, 'min_child_weight': 1}. Best is trial 15 with value: 0.8603351955307262.\n",
      "[I 2025-02-09 16:25:16,945] Trial 43 finished with value: 0.8435754189944135 and parameters: {'n_estimators': 367, 'max_depth': 6, 'learning_rate': 0.025646873887215753, 'subsample': 0.9131845322965935, 'colsample_bytree': 0.984105287167168, 'gamma': 0.17998083812568405, 'reg_alpha': 0.05120392432532481, 'reg_lambda': 0.9471276034168139, 'min_child_weight': 3}. Best is trial 15 with value: 0.8603351955307262.\n",
      "[I 2025-02-09 16:25:17,303] Trial 44 finished with value: 0.8491620111731844 and parameters: {'n_estimators': 295, 'max_depth': 5, 'learning_rate': 0.04741812193514202, 'subsample': 0.9293607127026559, 'colsample_bytree': 0.9971754671922286, 'gamma': 0.14197707177384727, 'reg_alpha': 0.12032965340208149, 'reg_lambda': 0.7773699257488849, 'min_child_weight': 5}. Best is trial 15 with value: 0.8603351955307262.\n",
      "[I 2025-02-09 16:25:17,686] Trial 45 finished with value: 0.8324022346368715 and parameters: {'n_estimators': 347, 'max_depth': 5, 'learning_rate': 0.08193955169046672, 'subsample': 0.9009937460240044, 'colsample_bytree': 0.9747231327563908, 'gamma': 0.15751606561615356, 'reg_alpha': 0.26645173407715717, 'reg_lambda': 0.6939344780618294, 'min_child_weight': 1}. Best is trial 15 with value: 0.8603351955307262.\n",
      "[I 2025-02-09 16:25:18,090] Trial 46 finished with value: 0.8435754189944135 and parameters: {'n_estimators': 418, 'max_depth': 4, 'learning_rate': 0.02246457380074815, 'subsample': 0.9559895374131543, 'colsample_bytree': 0.8430573712088381, 'gamma': 0.17021862548971076, 'reg_alpha': 0.00036258244561848674, 'reg_lambda': 0.9437911289386289, 'min_child_weight': 2}. Best is trial 15 with value: 0.8603351955307262.\n",
      "[I 2025-02-09 16:25:18,360] Trial 47 finished with value: 0.8547486033519553 and parameters: {'n_estimators': 219, 'max_depth': 5, 'learning_rate': 0.06408086223741914, 'subsample': 0.9373994651349601, 'colsample_bytree': 0.9602524486267616, 'gamma': 0.025999861212549005, 'reg_alpha': 0.21313481243695223, 'reg_lambda': 0.815989783146881, 'min_child_weight': 4}. Best is trial 15 with value: 0.8603351955307262.\n",
      "[I 2025-02-09 16:25:18,579] Trial 48 finished with value: 0.8212290502793296 and parameters: {'n_estimators': 248, 'max_depth': 3, 'learning_rate': 0.2246751941962335, 'subsample': 0.8789262670599212, 'colsample_bytree': 0.9893309029621606, 'gamma': 0.19170907939382167, 'reg_alpha': 0.04961427015276568, 'reg_lambda': 0.2720571975380348, 'min_child_weight': 4}. Best is trial 15 with value: 0.8603351955307262.\n",
      "[I 2025-02-09 16:25:19,398] Trial 49 finished with value: 0.8547486033519553 and parameters: {'n_estimators': 457, 'max_depth': 7, 'learning_rate': 0.010454211407885843, 'subsample': 0.9077193985196302, 'colsample_bytree': 0.8088573507493283, 'gamma': 0.1430984462222448, 'reg_alpha': 0.15138766744646787, 'reg_lambda': 0.6468812461979502, 'min_child_weight': 3}. Best is trial 15 with value: 0.8603351955307262.\n"
     ]
    },
    {
     "name": "stdout",
     "output_type": "stream",
     "text": [
      "Best trial:\n",
      "Accuracy: 0.8603351955307262\n",
      "Best params: {'n_estimators': 360, 'max_depth': 4, 'learning_rate': 0.010315406219742041, 'subsample': 0.9335373615789204, 'colsample_bytree': 0.9694231718308803, 'gamma': 0.13153763571373553, 'reg_alpha': 0.139111283120905, 'reg_lambda': 0.41673831939487, 'min_child_weight': 4}\n"
     ]
    }
   ],
   "source": [
    "from xgboost import XGBClassifier\n",
    "from sklearn.model_selection import train_test_split\n",
    "from sklearn.metrics import accuracy_score\n",
    "import optuna \n",
    "\n",
    "X = df_train.drop('Survived', axis=1)\n",
    "y = df_train['Survived']\n",
    "X_train, X_test, y_train, y_test = train_test_split(X, y, test_size=0.2, random_state=33)\n",
    "\n",
    "def objective(trial):\n",
    "    params = {\n",
    "        'n_estimators': trial.suggest_int('n_estimators', 100, 500),\n",
    "        'max_depth': trial.suggest_int('max_depth', 3, 10),\n",
    "        'learning_rate': trial.suggest_float('learning_rate', 0.01, 0.3),\n",
    "        'subsample': trial.suggest_float('subsample', 0.8, 1.0),\n",
    "        'colsample_bytree': trial.suggest_float('colsample_bytree', 0.8, 1.0),\n",
    "        'gamma': trial.suggest_float('gamma', 0, 0.2),\n",
    "        'reg_alpha': trial.suggest_float('reg_alpha', 0, 1),\n",
    "        'reg_lambda': trial.suggest_float('reg_lambda', 0, 1),\n",
    "        'min_child_weight': trial.suggest_int('min_child_weight', 1, 5),\n",
    "        'random_state': 33,\n",
    "        'eval_metric': 'logloss'\n",
    "    }\n",
    "\n",
    "    xgb_model = XGBClassifier(**params)\n",
    "    xgb_model.fit(X_train, y_train, eval_set=[(X_test, y_test)], verbose=False)\n",
    "    y_pred = xgb_model.predict(X_test)\n",
    "    return accuracy_score(y_test, y_pred)\n",
    "\n",
    "study = optuna.create_study(direction='maximize')\n",
    "study.optimize(objective, n_trials=50)\n",
    "\n",
    "print(\"Best trial:\")\n",
    "trial = study.best_trial\n",
    "print(\"Accuracy:\", trial.value)\n",
    "print(\"Best params:\", trial.params)"
   ]
  },
  {
   "cell_type": "code",
   "execution_count": 36,
   "metadata": {},
   "outputs": [
    {
     "name": "stdout",
     "output_type": "stream",
     "text": [
      "Accuracy for XGBoost is: 0.8715083798882681\n"
     ]
    }
   ],
   "source": [
    "xgb_model = XGBClassifier(n_estimators = 177, \n",
    "                          max_depth = 4, \n",
    "                          learning_rate = 0.09573006087382362, \n",
    "                          subsample = 0.8108167715727888,\n",
    "                          colsample_bytree = 0.9069999368837637, \n",
    "                          gamma = 0.04776601992406026, \n",
    "                          reg_alpha = 0.8258549919328203,\n",
    "                          reg_lambda = 0.21816536386481522,\n",
    "                          min_child_weight = 5,\n",
    "                          random_state = 33,\n",
    "                          eval_metric = 'logloss')\n",
    "xgb_model = xgb_model.fit(X_train, y_train)\n",
    "y_pred = xgb_model.predict(X_test)\n",
    "\n",
    "print(f'Accuracy for XGBoost is: {accuracy_score(y_test, y_pred)}')"
   ]
  },
  {
   "attachments": {},
   "cell_type": "markdown",
   "metadata": {},
   "source": [
    "## Extra Trees"
   ]
  },
  {
   "cell_type": "code",
   "execution_count": 37,
   "metadata": {},
   "outputs": [
    {
     "name": "stdout",
     "output_type": "stream",
     "text": [
      "Best parameters: {'criterion': 'entropy', 'max_depth': None, 'max_features': 0.7, 'min_samples_leaf': 4, 'min_samples_split': 7, 'n_estimators': 35}\n",
      "Accuracy for Extra Trees is: 0.8491620111731844\n"
     ]
    }
   ],
   "source": [
    "from sklearn.model_selection import train_test_split, GridSearchCV\n",
    "from sklearn.ensemble import ExtraTreesClassifier\n",
    "from sklearn.metrics import accuracy_score\n",
    "\n",
    "X = df_train.drop('Survived', axis=1)\n",
    "y = df_train['Survived']\n",
    "X_train, X_test, y_train, y_test = train_test_split(X, y, test_size=0.2, random_state=33)\n",
    "\n",
    "param_grid = {\n",
    "    'n_estimators': [35, 40, 45],  \n",
    "    'max_depth': [None, 25, 30],  \n",
    "    'max_features': ['log2', 0.7, 0.8],  \n",
    "    'min_samples_split': [7, 8, 9],  \n",
    "    'min_samples_leaf': [4, 5, 6],   \n",
    "    'criterion': ['entropy']         \n",
    "}\n",
    "\n",
    "grid_search = GridSearchCV(estimator=ExtraTreesClassifier(random_state=33),param_grid=param_grid, cv=5, scoring='accuracy', n_jobs=-1)\n",
    "\n",
    "grid_search.fit(X_train, y_train)\n",
    "\n",
    "print(\"Best parameters:\", grid_search.best_params_)\n",
    "\n",
    "et_model = grid_search.best_estimator_\n",
    "y_pred = et_model.predict(X_test)\n",
    "\n",
    "print(f'Accuracy for Extra Trees is: {accuracy_score(y_test, y_pred)}')"
   ]
  },
  {
   "attachments": {},
   "cell_type": "markdown",
   "metadata": {},
   "source": [
    "## Submission"
   ]
  },
  {
   "cell_type": "code",
   "execution_count": 40,
   "metadata": {},
   "outputs": [],
   "source": [
    "y_pred = rf_model.predict(df_test)\n",
    "\n",
    "submission = pd.DataFrame({'PassengerId': Id,\n",
    "              'Survived':y_pred})\n",
    "submission.to_csv('~/Desktop/submission.csv', index=False)"
   ]
  }
 ],
 "metadata": {
  "kernelspec": {
   "display_name": "Python 3",
   "language": "python",
   "name": "python3"
  },
  "language_info": {
   "codemirror_mode": {
    "name": "ipython",
    "version": 3
   },
   "file_extension": ".py",
   "mimetype": "text/x-python",
   "name": "python",
   "nbconvert_exporter": "python",
   "pygments_lexer": "ipython3",
   "version": "3.11.2"
  }
 },
 "nbformat": 4,
 "nbformat_minor": 2
}
