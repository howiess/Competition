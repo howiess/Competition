{
 "cells": [
  {
   "cell_type": "markdown",
   "metadata": {},
   "source": [
    "# Titanic - Machine Learning from Disaster\n",
    "\n",
    "Reference: Will Cukierski. Titanic - Machine Learning from Disaster. https://kaggle.com/competitions/titanic, 2012. Kaggle.\n",
    "\n",
    "This is a practice for Classification model"
   ]
  },
  {
   "cell_type": "code",
   "execution_count": 1,
   "metadata": {},
   "outputs": [],
   "source": [
    "import pandas as pd \n",
    "import numpy as np \n",
    "import seaborn as sns \n",
    "import matplotlib.pyplot as plt"
   ]
  },
  {
   "cell_type": "code",
   "execution_count": 2,
   "metadata": {},
   "outputs": [],
   "source": [
    "df_train = pd.read_csv('~/Desktop/train.csv').drop(['PassengerId','Name'], axis=1)\n",
    "Id = pd.read_csv('~/Desktop/test.csv')['PassengerId']\n",
    "df_test = pd.read_csv('~/Desktop/test.csv').drop(['PassengerId','Name'], axis=1)"
   ]
  },
  {
   "cell_type": "markdown",
   "metadata": {},
   "source": [
    "## Handle Missing Values"
   ]
  },
  {
   "cell_type": "code",
   "execution_count": 3,
   "metadata": {},
   "outputs": [
    {
     "data": {
      "text/html": [
       "<div>\n",
       "<style scoped>\n",
       "    .dataframe tbody tr th:only-of-type {\n",
       "        vertical-align: middle;\n",
       "    }\n",
       "\n",
       "    .dataframe tbody tr th {\n",
       "        vertical-align: top;\n",
       "    }\n",
       "\n",
       "    .dataframe thead th {\n",
       "        text-align: right;\n",
       "    }\n",
       "</style>\n",
       "<table border=\"1\" class=\"dataframe\">\n",
       "  <thead>\n",
       "    <tr style=\"text-align: right;\">\n",
       "      <th></th>\n",
       "      <th>Survived</th>\n",
       "      <th>Pclass</th>\n",
       "      <th>Age</th>\n",
       "      <th>SibSp</th>\n",
       "      <th>Parch</th>\n",
       "      <th>Fare</th>\n",
       "    </tr>\n",
       "  </thead>\n",
       "  <tbody>\n",
       "    <tr>\n",
       "      <th>count</th>\n",
       "      <td>891.000000</td>\n",
       "      <td>891.000000</td>\n",
       "      <td>714.000000</td>\n",
       "      <td>891.000000</td>\n",
       "      <td>891.000000</td>\n",
       "      <td>891.000000</td>\n",
       "    </tr>\n",
       "    <tr>\n",
       "      <th>mean</th>\n",
       "      <td>0.383838</td>\n",
       "      <td>2.308642</td>\n",
       "      <td>29.699118</td>\n",
       "      <td>0.523008</td>\n",
       "      <td>0.381594</td>\n",
       "      <td>32.204208</td>\n",
       "    </tr>\n",
       "    <tr>\n",
       "      <th>std</th>\n",
       "      <td>0.486592</td>\n",
       "      <td>0.836071</td>\n",
       "      <td>14.526497</td>\n",
       "      <td>1.102743</td>\n",
       "      <td>0.806057</td>\n",
       "      <td>49.693429</td>\n",
       "    </tr>\n",
       "    <tr>\n",
       "      <th>min</th>\n",
       "      <td>0.000000</td>\n",
       "      <td>1.000000</td>\n",
       "      <td>0.420000</td>\n",
       "      <td>0.000000</td>\n",
       "      <td>0.000000</td>\n",
       "      <td>0.000000</td>\n",
       "    </tr>\n",
       "    <tr>\n",
       "      <th>25%</th>\n",
       "      <td>0.000000</td>\n",
       "      <td>2.000000</td>\n",
       "      <td>20.125000</td>\n",
       "      <td>0.000000</td>\n",
       "      <td>0.000000</td>\n",
       "      <td>7.910400</td>\n",
       "    </tr>\n",
       "    <tr>\n",
       "      <th>50%</th>\n",
       "      <td>0.000000</td>\n",
       "      <td>3.000000</td>\n",
       "      <td>28.000000</td>\n",
       "      <td>0.000000</td>\n",
       "      <td>0.000000</td>\n",
       "      <td>14.454200</td>\n",
       "    </tr>\n",
       "    <tr>\n",
       "      <th>75%</th>\n",
       "      <td>1.000000</td>\n",
       "      <td>3.000000</td>\n",
       "      <td>38.000000</td>\n",
       "      <td>1.000000</td>\n",
       "      <td>0.000000</td>\n",
       "      <td>31.000000</td>\n",
       "    </tr>\n",
       "    <tr>\n",
       "      <th>max</th>\n",
       "      <td>1.000000</td>\n",
       "      <td>3.000000</td>\n",
       "      <td>80.000000</td>\n",
       "      <td>8.000000</td>\n",
       "      <td>6.000000</td>\n",
       "      <td>512.329200</td>\n",
       "    </tr>\n",
       "  </tbody>\n",
       "</table>\n",
       "</div>"
      ],
      "text/plain": [
       "         Survived      Pclass         Age       SibSp       Parch        Fare\n",
       "count  891.000000  891.000000  714.000000  891.000000  891.000000  891.000000\n",
       "mean     0.383838    2.308642   29.699118    0.523008    0.381594   32.204208\n",
       "std      0.486592    0.836071   14.526497    1.102743    0.806057   49.693429\n",
       "min      0.000000    1.000000    0.420000    0.000000    0.000000    0.000000\n",
       "25%      0.000000    2.000000   20.125000    0.000000    0.000000    7.910400\n",
       "50%      0.000000    3.000000   28.000000    0.000000    0.000000   14.454200\n",
       "75%      1.000000    3.000000   38.000000    1.000000    0.000000   31.000000\n",
       "max      1.000000    3.000000   80.000000    8.000000    6.000000  512.329200"
      ]
     },
     "execution_count": 3,
     "metadata": {},
     "output_type": "execute_result"
    }
   ],
   "source": [
    "df_train.describe()"
   ]
  },
  {
   "cell_type": "code",
   "execution_count": 4,
   "metadata": {},
   "outputs": [
    {
     "data": {
      "text/plain": [
       "Survived      0\n",
       "Pclass        0\n",
       "Sex           0\n",
       "Age         177\n",
       "SibSp         0\n",
       "Parch         0\n",
       "Ticket        0\n",
       "Fare          0\n",
       "Cabin       687\n",
       "Embarked      2\n",
       "dtype: int64"
      ]
     },
     "execution_count": 4,
     "metadata": {},
     "output_type": "execute_result"
    }
   ],
   "source": [
    "df_train.isna().sum()"
   ]
  },
  {
   "cell_type": "code",
   "execution_count": 5,
   "metadata": {},
   "outputs": [],
   "source": [
    "# Drop Cabin due to large volumn of missing values\n",
    "df_train.drop('Cabin', axis=1, inplace=True)\n",
    "df_test.drop('Cabin', axis=1, inplace=True)\n",
    "\n",
    "# Drop Ticket as it Pclass already provided class info\n",
    "df_train.drop('Ticket', axis=1, inplace=True)\n",
    "df_test.drop('Ticket', axis=1, inplace=True)"
   ]
  },
  {
   "cell_type": "code",
   "execution_count": 6,
   "metadata": {},
   "outputs": [],
   "source": [
    "# Fill Age missing value with its mean\n",
    "\n",
    "age_mean = np.mean(df_train['Age'])\n",
    "df_train['Age'] = df_train['Age'].fillna(age_mean)\n",
    "df_test['Age'] = df_test['Age'].fillna(age_mean)"
   ]
  },
  {
   "cell_type": "code",
   "execution_count": 7,
   "metadata": {},
   "outputs": [],
   "source": [
    "# Fill Embarked missing value with its mode\n",
    "\n",
    "embarked_mode = df_train['Embarked'].mode()[0]\n",
    "df_train['Embarked'] = df_train['Embarked'].fillna(embarked_mode)\n",
    "df_test['Embarked'] = df_test['Embarked'].fillna(embarked_mode)"
   ]
  },
  {
   "cell_type": "code",
   "execution_count": 8,
   "metadata": {},
   "outputs": [
    {
     "data": {
      "text/plain": [
       "Survived    0\n",
       "Pclass      0\n",
       "Sex         0\n",
       "Age         0\n",
       "SibSp       0\n",
       "Parch       0\n",
       "Fare        0\n",
       "Embarked    0\n",
       "dtype: int64"
      ]
     },
     "execution_count": 8,
     "metadata": {},
     "output_type": "execute_result"
    }
   ],
   "source": [
    "df_train.isna().sum()"
   ]
  },
  {
   "cell_type": "markdown",
   "metadata": {},
   "source": [
    "# EDA "
   ]
  },
  {
   "cell_type": "code",
   "execution_count": 9,
   "metadata": {},
   "outputs": [
    {
     "data": {
      "image/png": "[encoded data removed]",
      "text/plain": [
       "<Figure size 640x480 with 1 Axes>"
      ]
     },
     "metadata": {},
     "output_type": "display_data"
    }
   ],
   "source": [
    "# relationship between passenger class and fare \n",
    "sns.regplot(data=df_train, x='Pclass', y='Fare', line_kws={'color':'r'})\n",
    "plt.show()"
   ]
  },
  {
   "cell_type": "code",
   "execution_count": 10,
   "metadata": {},
   "outputs": [
    {
     "data": {
      "text/html": [
       "<div>\n",
       "<style scoped>\n",
       "    .dataframe tbody tr th:only-of-type {\n",
       "        vertical-align: middle;\n",
       "    }\n",
       "\n",
       "    .dataframe tbody tr th {\n",
       "        vertical-align: top;\n",
       "    }\n",
       "\n",
       "    .dataframe thead th {\n",
       "        text-align: right;\n",
       "    }\n",
       "</style>\n",
       "<table border=\"1\" class=\"dataframe\">\n",
       "  <thead>\n",
       "    <tr style=\"text-align: right;\">\n",
       "      <th></th>\n",
       "      <th>Survived</th>\n",
       "      <th>Age</th>\n",
       "      <th>SibSp</th>\n",
       "      <th>Parch</th>\n",
       "      <th>Fare</th>\n",
       "    </tr>\n",
       "    <tr>\n",
       "      <th>Pclass</th>\n",
       "      <th></th>\n",
       "      <th></th>\n",
       "      <th></th>\n",
       "      <th></th>\n",
       "      <th></th>\n",
       "    </tr>\n",
       "  </thead>\n",
       "  <tbody>\n",
       "    <tr>\n",
       "      <th>1</th>\n",
       "      <td>0.629630</td>\n",
       "      <td>37.048118</td>\n",
       "      <td>0.416667</td>\n",
       "      <td>0.356481</td>\n",
       "      <td>84.154687</td>\n",
       "    </tr>\n",
       "    <tr>\n",
       "      <th>2</th>\n",
       "      <td>0.472826</td>\n",
       "      <td>29.866958</td>\n",
       "      <td>0.402174</td>\n",
       "      <td>0.380435</td>\n",
       "      <td>20.662183</td>\n",
       "    </tr>\n",
       "    <tr>\n",
       "      <th>3</th>\n",
       "      <td>0.242363</td>\n",
       "      <td>26.403259</td>\n",
       "      <td>0.615071</td>\n",
       "      <td>0.393075</td>\n",
       "      <td>13.675550</td>\n",
       "    </tr>\n",
       "  </tbody>\n",
       "</table>\n",
       "</div>"
      ],
      "text/plain": [
       "        Survived        Age     SibSp     Parch       Fare\n",
       "Pclass                                                    \n",
       "1       0.629630  37.048118  0.416667  0.356481  84.154687\n",
       "2       0.472826  29.866958  0.402174  0.380435  20.662183\n",
       "3       0.242363  26.403259  0.615071  0.393075  13.675550"
      ]
     },
     "execution_count": 10,
     "metadata": {},
     "output_type": "execute_result"
    }
   ],
   "source": [
    "df_train.groupby('Pclass').mean(numeric_only=True)"
   ]
  },
  {
   "cell_type": "markdown",
   "metadata": {},
   "source": [
    "Since the fare amount correlates with passenger class, one of them should be dropped. We should conduct an A/B test to see\n",
    "dropping which one would result in a better model"
   ]
  },
  {
   "cell_type": "code",
   "execution_count": 11,
   "metadata": {},
   "outputs": [],
   "source": [
    "df_train.drop('Fare', axis=1, inplace=True)\n",
    "df_test.drop('Fare', axis=1, inplace=True)"
   ]
  },
  {
   "cell_type": "markdown",
   "metadata": {},
   "source": [
    "## Dummy Variables"
   ]
  },
  {
   "cell_type": "code",
   "execution_count": 12,
   "metadata": {},
   "outputs": [],
   "source": [
    "dummy_col = ['Pclass', 'Sex', 'Embarked']\n",
    "\n",
    "from sklearn.preprocessing import OneHotEncoder\n",
    "\n",
    "dummy_encoder = OneHotEncoder(handle_unknown='ignore', drop='first')\n",
    "\n",
    "df_train_dummy = dummy_encoder.fit_transform(df_train[dummy_col]).toarray()\n",
    "df_test_dummy = dummy_encoder.transform(df_test[dummy_col]).toarray()\n",
    "\n",
    "df_train = pd.DataFrame(df_train_dummy, columns=dummy_encoder.get_feature_names_out()).join(df_train[['Age','SibSp', 'Parch', 'Survived']])\n",
    "df_test = pd.DataFrame(df_test_dummy, columns=dummy_encoder.get_feature_names_out()).join(df_test[['Age','SibSp', 'Parch']])"
   ]
  },
  {
   "cell_type": "markdown",
   "metadata": {},
   "source": [
    "## Feature Scaling"
   ]
  },
  {
   "cell_type": "code",
   "execution_count": 13,
   "metadata": {},
   "outputs": [],
   "source": [
    "scaling_col = ['Age', 'SibSp', 'Parch']\n",
    "\n",
    "from sklearn.preprocessing import StandardScaler\n",
    "\n",
    "ss_scaler = StandardScaler().set_output(transform = 'pandas')\n",
    "\n",
    "df_train[scaling_col] = ss_scaler.fit_transform(df_train[scaling_col])\n",
    "df_test[scaling_col] = ss_scaler.fit_transform(df_test[scaling_col])"
   ]
  },
  {
   "cell_type": "markdown",
   "metadata": {},
   "source": [
    "## Model Fitting\n",
    "\n",
    "### 1. Logistic Regression"
   ]
  },
  {
   "cell_type": "code",
   "execution_count": 14,
   "metadata": {},
   "outputs": [
    {
     "name": "stdout",
     "output_type": "stream",
     "text": [
      "Best C: 29.763514416313132\n",
      "Accuracy for logistic regression is: 0.8156424581005587\n"
     ]
    }
   ],
   "source": [
    "from sklearn.model_selection import train_test_split\n",
    "from sklearn.linear_model import LogisticRegressionCV\n",
    "from sklearn.metrics import accuracy_score\n",
    "\n",
    "X = df_train.drop('Survived', axis=1)\n",
    "y = df_train['Survived']\n",
    "X_train, X_test, y_train, y_test = train_test_split(X, y, test_size=0.2, random_state=33)\n",
    "\n",
    "lr_model = LogisticRegressionCV(Cs = np.logspace(-4,4,20),\n",
    "                                cv = 5,\n",
    "                                penalty='l2',\n",
    "                                solver='liblinear',\n",
    "                                scoring='accuracy',\n",
    "                                max_iter=500)\n",
    "lr_model = lr_model.fit(X_train, y_train)\n",
    "print(f\"Best C: {lr_model.C_[0]}\")\n",
    "\n",
    "y_pred = lr_model.predict(X_test)\n",
    "print(f'Accuracy for logistic regression is: {accuracy_score(y_test, y_pred)}')\n"
   ]
  },
  {
   "cell_type": "markdown",
   "metadata": {},
   "source": [
    "### Logistic Regression Model Assumption"
   ]
  },
  {
   "cell_type": "code",
   "execution_count": 25,
   "metadata": {},
   "outputs": [
    {
     "name": "stdout",
     "output_type": "stream",
     "text": [
      "Optimization terminated successfully.\n",
      "         Current function value: 0.459019\n",
      "         Iterations 6\n",
      "                           Logit Regression Results                           \n",
      "==============================================================================\n",
      "Dep. Variable:               Survived   No. Observations:                  712\n",
      "Model:                          Logit   Df Residuals:                      703\n",
      "Method:                           MLE   Df Model:                            8\n",
      "Date:                Thu, 30 Jan 2025   Pseudo R-squ.:                  0.3084\n",
      "Time:                        16:34:03   Log-Likelihood:                -326.82\n",
      "converged:                       True   LL-Null:                       -472.54\n",
      "Covariance Type:            nonrobust   LLR p-value:                 2.736e-58\n",
      "==============================================================================\n",
      "                 coef    std err          z      P>|z|      [0.025      0.975]\n",
      "------------------------------------------------------------------------------\n",
      "Pclass_2      -0.7189      0.280     -2.563      0.010      -1.269      -0.169\n",
      "Pclass_3      -1.7418      0.254     -6.867      0.000      -2.239      -1.245\n",
      "Sex_male      -2.6752      0.218    -12.260      0.000      -3.103      -2.248\n",
      "Embarked_Q    -0.3044      0.428     -0.711      0.477      -1.143       0.535\n",
      "Embarked_S    -0.6025      0.256     -2.354      0.019      -1.104      -0.101\n",
      "Age            0.0008      0.012      0.067      0.947      -0.023       0.025\n",
      "SibSp         -0.5609      0.265     -2.116      0.034      -1.080      -0.041\n",
      "Parch         -0.0579      0.213     -0.272      0.786      -0.476       0.360\n",
      "constant       2.2610      0.355      6.374      0.000       1.566       2.956\n",
      "==============================================================================\n"
     ]
    }
   ],
   "source": [
    "# log-odds linearity\n",
    "import statsmodels.api as sm\n",
    "\n",
    "\n",
    "# Replace Age, SibSp, and Parch with their log-transformed versions\n",
    "X_train_log = X_train.copy()\n",
    "X_train_log[[\"Age\", \"SibSp\", \"Parch\"]] = np.log(np.abs(X_train_log[[\"Age\", \"SibSp\", \"Parch\"]]) + 1e-10)\n",
    "\n",
    "# Add intercept column\n",
    "X_train_log[\"constant\"] = 1\n",
    "\n",
    "# Fit logistic regression\n",
    "logit_model = sm.Logit(y_train, X_train_log).fit()\n",
    "print(logit_model.summary())"
   ]
  },
  {
   "cell_type": "markdown",
   "metadata": {},
   "source": [
    "We only care about the continuous variables Age, SibSp, and Parch as other dummy encoded variable has no meaningful log-odds transformation. "
   ]
  },
  {
   "cell_type": "code",
   "execution_count": null,
   "metadata": {},
   "outputs": [
    {
     "name": "stdout",
     "output_type": "stream",
     "text": [
      "        VIF     Feature\n",
      "0  1.845189    Pclass_2\n",
      "1  3.597277    Pclass_3\n",
      "2  2.755140    Sex_male\n",
      "3  1.457306  Embarked_Q\n",
      "4  3.858323  Embarked_S\n",
      "5  1.195240         Age\n",
      "6  1.256613       SibSp\n",
      "7  1.275970       Parch\n"
     ]
    }
   ],
   "source": [
    "# Multicollinearity\n",
    "from statsmodels.stats.outliers_influence import variance_inflation_factor\n",
    "\n",
    "# Compute VIF for each feature\n",
    "vif_data = pd.DataFrame()\n",
    "vif_data[\"VIF\"] = [variance_inflation_factor(df_train.drop('Survived', axis=1), i) for i in range(df_train.drop('Survived', axis=1).shape[1])]\n",
    "vif_data['Feature'] = df_train.drop('Survived', axis=1).columns\n",
    "print(vif_data)"
   ]
  },
  {
   "cell_type": "markdown",
   "metadata": {},
   "source": [
    "All features has VIF < 10, which means there is no significnat mullticollinearity"
   ]
  },
  {
   "cell_type": "code",
   "execution_count": 30,
   "metadata": {},
   "outputs": [
    {
     "data": {
      "image/png": "[encoded data removed]",
      "text/plain": [
       "<Figure size 1000x500 with 1 Axes>"
      ]
     },
     "metadata": {},
     "output_type": "display_data"
    }
   ],
   "source": [
    "# Outliers\n",
    "plt.figure(figsize=(10,5))\n",
    "sns.boxplot(data=pd.DataFrame(df_train[['Age', 'SibSp', 'Parch']]))\n",
    "plt.xticks(range(df_train[['Age', 'SibSp', 'Parch']].shape[1]), df_train[['Age', 'SibSp', 'Parch']].columns, rotation=45)\n",
    "plt.show()"
   ]
  },
  {
   "cell_type": "markdown",
   "metadata": {},
   "source": [
    "### 2. LDA"
   ]
  },
  {
   "cell_type": "code",
   "execution_count": 18,
   "metadata": {},
   "outputs": [
    {
     "name": "stdout",
     "output_type": "stream",
     "text": [
      "Accuracy for Linear Discriminant Analysis is: 0.8100558659217877\n"
     ]
    }
   ],
   "source": [
    "from sklearn.model_selection import train_test_split\n",
    "from sklearn.discriminant_analysis import LinearDiscriminantAnalysis\n",
    "from sklearn.metrics import accuracy_score\n",
    "\n",
    "X = df_train.drop('Survived', axis=1)\n",
    "y = df_train['Survived']\n",
    "X_train, X_test, y_train, y_test = train_test_split(X, y, test_size=0.2, random_state=33)\n",
    "\n",
    "lda = LinearDiscriminantAnalysis()\n",
    "\n",
    "lda = lda.fit(X_train, y_train)\n",
    "\n",
    "y_pred = lda.predict(X_test)\n",
    "\n",
    "print(f'Accuracy for Linear Discriminant Analysis is: {accuracy_score(y_test, y_pred)}')"
   ]
  },
  {
   "cell_type": "markdown",
   "metadata": {},
   "source": [
    "### Model Assumptions"
   ]
  },
  {
   "cell_type": "code",
   "execution_count": 31,
   "metadata": {},
   "outputs": [
    {
     "name": "stdout",
     "output_type": "stream",
     "text": [
      "Age: p-value = 3.972714542180072e-15\n",
      "SibSp: p-value = 5.74532370373175e-44\n",
      "Parch: p-value = 2.382207389352189e-43\n"
     ]
    }
   ],
   "source": [
    "# Check for Normality of Features Within Each Class\n",
    "\n",
    "from scipy.stats import shapiro\n",
    "\n",
    "for col in df_train[['Age', 'SibSp', 'Parch']].columns:\n",
    "    stat, p = shapiro(df_train[col])\n",
    "    print(f\"{col}: p-value = {p}\")"
   ]
  },
  {
   "cell_type": "markdown",
   "metadata": {},
   "source": [
    "LDA assumes that each feature is normally distributed within each class. An p-value < 0.05 implies Feature is not normally distributed."
   ]
  },
  {
   "cell_type": "code",
   "execution_count": 32,
   "metadata": {},
   "outputs": [
    {
     "name": "stdout",
     "output_type": "stream",
     "text": [
      "Covariance for Survived = 0\n",
      "            Pclass_2  Pclass_3      Sex_male  Embarked_Q    Embarked_S  \\\n",
      "Pclass_2    0.145733 -0.119939  1.516693e-02   -0.013329  2.291160e-02   \n",
      "Pclass_3   -0.119939  0.218858 -3.123130e-02    0.024002 -6.082725e-03   \n",
      "Sex_male    0.015167 -0.031231  1.260022e-01   -0.003769  1.316870e-17   \n",
      "Embarked_Q -0.013329  0.024002 -3.769295e-03    0.078424 -6.670722e-02   \n",
      "Embarked_S  0.022912 -0.006083  1.316870e-17   -0.066707  1.731549e-01   \n",
      "Age         0.490301 -1.976431  6.305149e-01   -0.037457 -2.260055e-01   \n",
      "SibSp      -0.033682  0.065269 -7.881845e-02   -0.003004  3.641619e-02   \n",
      "Parch      -0.039923  0.045197 -1.272194e-01   -0.005541  1.825683e-02   \n",
      "Survived    0.000000  0.000000  0.000000e+00    0.000000  0.000000e+00   \n",
      "\n",
      "                   Age     SibSp     Parch  Survived  \n",
      "Pclass_2      0.490301 -0.033682 -0.039923       0.0  \n",
      "Pclass_3     -1.976431  0.065269  0.045197       0.0  \n",
      "Sex_male      0.630515 -0.078818 -0.127219       0.0  \n",
      "Embarked_Q   -0.037457 -0.003004 -0.005541       0.0  \n",
      "Embarked_S   -0.226005  0.036416  0.018257       0.0  \n",
      "Age         146.400946 -3.658045 -1.063138       0.0  \n",
      "SibSp        -3.658045  1.096355  0.501249       0.0  \n",
      "Parch        -1.063138  0.501249  1.003248       0.0  \n",
      "Survived      0.000000  0.000000  0.000000       0.0  \n",
      "\n",
      "Covariance for Survived = 1\n",
      "            Pclass_2  Pclass_3  Sex_male  Embarked_Q  Embarked_S         Age  \\\n",
      "Pclass_2    0.190230 -0.088774 -0.031461   -0.016515    0.059500   -0.612974   \n",
      "Pclass_3   -0.088774  0.227547  0.026607    0.048567   -0.026985   -1.802238   \n",
      "Sex_male   -0.031461  0.026607  0.217772   -0.019242    0.021120   -0.285033   \n",
      "Embarked_Q -0.016515  0.048567 -0.019242    0.080259   -0.056336   -0.065833   \n",
      "Embarked_S  0.059500 -0.026985  0.021120   -0.056336    0.230977   -0.075383   \n",
      "Age        -0.612974 -1.802238 -0.285033   -0.065833   -0.075383  178.943756   \n",
      "SibSp       0.004265 -0.010411 -0.022955   -0.012418    0.007777   -1.065651   \n",
      "Parch       0.055497 -0.019000 -0.041662   -0.049769    0.054182   -3.900104   \n",
      "Survived    0.000000  0.000000  0.000000    0.000000    0.000000    0.000000   \n",
      "\n",
      "               SibSp     Parch  Survived  \n",
      "Pclass_2    0.004265  0.055497       0.0  \n",
      "Pclass_3   -0.010411 -0.019000       0.0  \n",
      "Sex_male   -0.022955 -0.041662       0.0  \n",
      "Embarked_Q -0.012418 -0.049769       0.0  \n",
      "Embarked_S  0.007777  0.054182       0.0  \n",
      "Age        -1.065651 -3.900104       0.0  \n",
      "SibSp       0.331711  0.152781       0.0  \n",
      "Parch       0.152781  0.881747       0.0  \n",
      "Survived    0.000000  0.000000       0.0  \n"
     ]
    }
   ],
   "source": [
    "# Equal variance for target = 0 and 1\n",
    "df_train_inverse = df_train.copy()\n",
    "df_train_inverse[['Age', 'SibSp', 'Parch']] = ss_scaler.inverse_transform(df_train_inverse[['Age', 'SibSp', 'Parch']])\n",
    "grouped = df_train_inverse.groupby(\"Survived\")\n",
    "cov_0 = grouped.get_group(0).cov()\n",
    "cov_1 = grouped.get_group(1).cov()\n",
    "\n",
    "# Compare covariance matrices\n",
    "print(\"Covariance for Survived = 0\")\n",
    "print(cov_0)\n",
    "\n",
    "print(\"\\nCovariance for Survived = 1\")\n",
    "print(cov_1)"
   ]
  },
  {
   "cell_type": "markdown",
   "metadata": {},
   "source": [
    "If covariance matrices are significantly different, LDA assumptions are violated."
   ]
  },
  {
   "cell_type": "code",
   "execution_count": 21,
   "metadata": {},
   "outputs": [
    {
     "name": "stdout",
     "output_type": "stream",
     "text": [
      "        VIF\n",
      "0  1.889571\n",
      "1  3.474712\n",
      "2  2.774803\n",
      "3  1.457547\n",
      "4  3.852697\n",
      "5  1.183448\n",
      "6  1.248584\n",
      "7  1.250932\n"
     ]
    }
   ],
   "source": [
    "# Multicollinearity\n",
    "print(vif_data)"
   ]
  },
  {
   "cell_type": "markdown",
   "metadata": {},
   "source": [
    "### 3. KNN"
   ]
  },
  {
   "cell_type": "code",
   "execution_count": 22,
   "metadata": {},
   "outputs": [
    {
     "name": "stdout",
     "output_type": "stream",
     "text": [
      "Best parameters: {'metric': 'manhattan', 'n_neighbors': 20, 'weights': 'distance'}\n",
      "Accuracy for KNN is: 0.8100558659217877\n"
     ]
    }
   ],
   "source": [
    "from sklearn.model_selection import train_test_split, GridSearchCV\n",
    "from sklearn.neighbors import KNeighborsClassifier\n",
    "from sklearn.metrics import accuracy_score\n",
    "\n",
    "X = df_train.drop('Survived', axis=1)\n",
    "y = df_train['Survived']\n",
    "X_train, X_test, y_train, y_test = train_test_split(X, y, test_size=0.2, random_state=33)\n",
    "\n",
    "param_grid = {\n",
    "    'n_neighbors': np.arange(1, 21),\n",
    "    'weights': [\"uniform\", \"distance\"],\n",
    "    'metric': [\"euclidean\", \"manhattan\", \"minkowski\"]\n",
    "}\n",
    "\n",
    "\n",
    "grid_search = GridSearchCV(\n",
    "    estimator = KNeighborsClassifier(),\n",
    "    param_grid= param_grid,\n",
    "    cv = 5,\n",
    "    scoring= 'accuracy',\n",
    "    n_jobs= -1\n",
    ")\n",
    "\n",
    "grid_search.fit(X_train, y_train)\n",
    "\n",
    "print(\"Best parameters:\", grid_search.best_params_)\n",
    "\n",
    "knn_model = grid_search.best_estimator_\n",
    "y_pred = knn_model.predict(X_test)\n",
    "print(f'Accuracy for KNN is: {accuracy_score(y_test, y_pred)}')"
   ]
  },
  {
   "cell_type": "markdown",
   "metadata": {},
   "source": [
    "### Model Assumptions"
   ]
  },
  {
   "cell_type": "markdown",
   "metadata": {},
   "source": [
    "Since KNN is a non-parametric techinque, there is no strict model assumptions"
   ]
  },
  {
   "cell_type": "code",
   "execution_count": null,
   "metadata": {},
   "outputs": [],
   "source": []
  }
 ],
 "metadata": {
  "kernelspec": {
   "display_name": "Python 3",
   "language": "python",
   "name": "python3"
  },
  "language_info": {
   "codemirror_mode": {
    "name": "ipython",
    "version": 3
   },
   "file_extension": ".py",
   "mimetype": "text/x-python",
   "name": "python",
   "nbconvert_exporter": "python",
   "pygments_lexer": "ipython3",
   "version": "3.11.1"
  }
 },
 "nbformat": 4,
 "nbformat_minor": 2
}
