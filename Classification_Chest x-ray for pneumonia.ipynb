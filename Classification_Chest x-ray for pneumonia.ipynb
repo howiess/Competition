{
 "cells": [
  {
   "cell_type": "code",
   "execution_count": 1,
   "metadata": {},
   "outputs": [
    {
     "name": "stdout",
     "output_type": "stream",
     "text": [
      "tensorflow version: 2.12.0\n"
     ]
    }
   ],
   "source": [
    "import tensorflow as tf \n",
    "from tensorflow.keras.preprocessing.image import ImageDataGenerator\n",
    "\n",
    "print(f\"tensorflow version: {tf.__version__}\")\n"
   ]
  },
  {
   "cell_type": "code",
   "execution_count": 2,
   "metadata": {},
   "outputs": [],
   "source": [
    "train_dr = 'E:/Github Repo/Competition/data/pneumonia_data/chest_xray/train'\n",
    "val_dr = 'E:/Github Repo/Competition/data/pneumonia_data/chest_xray/val'\n",
    "test_dr = 'E:/Github Repo/Competition/data/pneumonia_data/chest_xray/test'"
   ]
  },
  {
   "cell_type": "code",
   "execution_count": 3,
   "metadata": {},
   "outputs": [],
   "source": [
    "train_datagen = ImageDataGenerator(\n",
    "    rescale=1.0/255,\n",
    "    rotation_range=15,\n",
    "    width_shift_range=0.1,\n",
    "    height_shift_range=0.1,\n",
    "    shear_range=0.1,\n",
    "    zoom_range=0.1,\n",
    "    horizontal_flip=True\n",
    ")\n"
   ]
  },
  {
   "cell_type": "code",
   "execution_count": 4,
   "metadata": {},
   "outputs": [],
   "source": [
    "val_datagen = ImageDataGenerator(rescale=1.0/255)\n",
    "test_datagen = ImageDataGenerator(rescale=1.0/255)"
   ]
  },
  {
   "cell_type": "code",
   "execution_count": 5,
   "metadata": {},
   "outputs": [
    {
     "name": "stdout",
     "output_type": "stream",
     "text": [
      "Found 5216 images belonging to 2 classes.\n",
      "Found 16 images belonging to 2 classes.\n",
      "Found 624 images belonging to 2 classes.\n"
     ]
    }
   ],
   "source": [
    "train_data = train_datagen.flow_from_directory(\n",
    "    train_dr,\n",
    "    target_size=(150, 150),\n",
    "    batch_size=32,\n",
    "    class_mode='binary'\n",
    ")\n",
    "\n",
    "val_data = val_datagen.flow_from_directory(\n",
    "    val_dr,\n",
    "    target_size=(150, 150),\n",
    "    batch_size=32,\n",
    "    class_mode='binary'\n",
    ")\n",
    "\n",
    "test_data = test_datagen.flow_from_directory(\n",
    "    test_dr,\n",
    "    target_size=(150, 150),\n",
    "    batch_size=32,\n",
    "    class_mode='binary'\n",
    ")"
   ]
  },
  {
   "attachments": {},
   "cell_type": "markdown",
   "metadata": {},
   "source": [
    "## Model Development"
   ]
  },
  {
   "cell_type": "code",
   "execution_count": 6,
   "metadata": {},
   "outputs": [
    {
     "name": "stdout",
     "output_type": "stream",
     "text": [
      "Model: \"sequential\"\n",
      "_________________________________________________________________\n",
      " Layer (type)                Output Shape              Param #   \n",
      "=================================================================\n",
      " conv2d (Conv2D)             (None, 148, 148, 32)      896       \n",
      "                                                                 \n",
      " max_pooling2d (MaxPooling2D  (None, 74, 74, 32)       0         \n",
      " )                                                               \n",
      "                                                                 \n",
      " conv2d_1 (Conv2D)           (None, 72, 72, 64)        18496     \n",
      "                                                                 \n",
      " max_pooling2d_1 (MaxPooling  (None, 36, 36, 64)       0         \n",
      " 2D)                                                             \n",
      "                                                                 \n",
      " conv2d_2 (Conv2D)           (None, 34, 34, 128)       73856     \n",
      "                                                                 \n",
      " max_pooling2d_2 (MaxPooling  (None, 17, 17, 128)      0         \n",
      " 2D)                                                             \n",
      "                                                                 \n",
      " flatten (Flatten)           (None, 36992)             0         \n",
      "                                                                 \n",
      " dense (Dense)               (None, 512)               18940416  \n",
      "                                                                 \n",
      " dropout (Dropout)           (None, 512)               0         \n",
      "                                                                 \n",
      " dense_1 (Dense)             (None, 1)                 513       \n",
      "                                                                 \n",
      "=================================================================\n",
      "Total params: 19,034,177\n",
      "Trainable params: 19,034,177\n",
      "Non-trainable params: 0\n",
      "_________________________________________________________________\n"
     ]
    }
   ],
   "source": [
    "from tensorflow.keras.models import Sequential\n",
    "from tensorflow.keras.layers import Conv2D, MaxPooling2D, Flatten, Dense, Dropout\n",
    "from tensorflow.keras.callbacks import ReduceLROnPlateau\n",
    "from tensorflow.keras.layers import Dropout\n",
    "from tensorflow.keras.regularizers import l2\n",
    "\n",
    "lr_scheduler = ReduceLROnPlateau(\n",
    "    monitor='val_loss',  # Track validation loss for adjustments\n",
    "    factor=0.5,          # Reduce the learning rate by a factor of 0.5\n",
    "    patience=3,          # Number of epochs with no improvement before reducing\n",
    "    min_lr=1e-6          # Minimum learning rate\n",
    ")\n",
    "\n",
    "\n",
    "model = Sequential([\n",
    "    Conv2D(32, (3, 3), activation='relu', input_shape=(150, 150, 3)),\n",
    "    MaxPooling2D((2, 2)),\n",
    "    Dropout(0.3),\n",
    "    Conv2D(64, (3, 3), activation='relu'),\n",
    "    MaxPooling2D((2, 2)),\n",
    "    Dropout(0.3),\n",
    "    Conv2D(128, (3, 3), activation='relu'),\n",
    "    MaxPooling2D((2, 2)),\n",
    "    Flatten(),\n",
    "    Dense(512, activation='relu', kernel_regularizer=l2(0.001)),\n",
    "    Dropout(0.5),\n",
    "    Dense(1, activation='sigmoid')  # Sigmoid for binary classification\n",
    "])\n",
    "model.compile(optimizer='adam', loss='binary_crossentropy', metrics=['accuracy'])\n",
    "\n",
    "model.summary()\n"
   ]
  },
  {
   "cell_type": "code",
   "execution_count": 8,
   "metadata": {},
   "outputs": [],
   "source": [
    "import tensorflow as tf \n",
    "import os\n",
    "\n",
    "# Define a log directory for TensorBoard\n",
    "log_dir = \"logs/fit/\" + tf.timestamp().numpy().astype(str)\n",
    "tensorboard_callback = tf.keras.callbacks.TensorBoard(log_dir=log_dir, histogram_freq=1)"
   ]
  },
  {
   "cell_type": "code",
   "execution_count": 9,
   "metadata": {},
   "outputs": [
    {
     "name": "stdout",
     "output_type": "stream",
     "text": [
      "Epoch 1/20\n",
      "163/163 [==============================] - 129s 787ms/step - loss: 0.3029 - accuracy: 0.8823 - val_loss: 0.4428 - val_accuracy: 0.8750\n",
      "Epoch 2/20\n",
      "163/163 [==============================] - 118s 721ms/step - loss: 0.2200 - accuracy: 0.9120 - val_loss: 0.8423 - val_accuracy: 0.7500\n",
      "Epoch 3/20\n",
      "163/163 [==============================] - 113s 690ms/step - loss: 0.2034 - accuracy: 0.9216 - val_loss: 0.6351 - val_accuracy: 0.7500\n",
      "Epoch 4/20\n",
      "163/163 [==============================] - 112s 683ms/step - loss: 0.1881 - accuracy: 0.9256 - val_loss: 1.0461 - val_accuracy: 0.6250\n",
      "Epoch 5/20\n",
      "163/163 [==============================] - 108s 660ms/step - loss: 0.1668 - accuracy: 0.9371 - val_loss: 0.3902 - val_accuracy: 0.9375\n",
      "Epoch 6/20\n",
      "163/163 [==============================] - 113s 688ms/step - loss: 0.1599 - accuracy: 0.9365 - val_loss: 0.5425 - val_accuracy: 0.8125\n",
      "Epoch 7/20\n",
      "163/163 [==============================] - 109s 670ms/step - loss: 0.1520 - accuracy: 0.9429 - val_loss: 0.7541 - val_accuracy: 0.7500\n",
      "Epoch 8/20\n",
      "163/163 [==============================] - 107s 655ms/step - loss: 0.1373 - accuracy: 0.9494 - val_loss: 0.3376 - val_accuracy: 0.7500\n",
      "Epoch 9/20\n",
      "163/163 [==============================] - 107s 656ms/step - loss: 0.1258 - accuracy: 0.9511 - val_loss: 0.2513 - val_accuracy: 0.8750\n",
      "Epoch 10/20\n",
      "163/163 [==============================] - 107s 657ms/step - loss: 0.1383 - accuracy: 0.9457 - val_loss: 0.3596 - val_accuracy: 0.8125\n",
      "Epoch 11/20\n",
      "163/163 [==============================] - 113s 693ms/step - loss: 0.1285 - accuracy: 0.9502 - val_loss: 0.5066 - val_accuracy: 0.8125\n",
      "Epoch 12/20\n",
      "163/163 [==============================] - 116s 709ms/step - loss: 0.1202 - accuracy: 0.9548 - val_loss: 0.4288 - val_accuracy: 0.7500\n",
      "Epoch 13/20\n",
      "163/163 [==============================] - 111s 678ms/step - loss: 0.1188 - accuracy: 0.9530 - val_loss: 0.3637 - val_accuracy: 0.8125\n",
      "Epoch 14/20\n",
      "163/163 [==============================] - 108s 660ms/step - loss: 0.1088 - accuracy: 0.9578 - val_loss: 0.4537 - val_accuracy: 0.8125\n",
      "Epoch 15/20\n",
      "163/163 [==============================] - 107s 656ms/step - loss: 0.1119 - accuracy: 0.9582 - val_loss: 0.5616 - val_accuracy: 0.7500\n",
      "Epoch 16/20\n",
      "163/163 [==============================] - 107s 657ms/step - loss: 0.1167 - accuracy: 0.9569 - val_loss: 0.4515 - val_accuracy: 0.8125\n",
      "Epoch 17/20\n",
      "163/163 [==============================] - 107s 655ms/step - loss: 0.1064 - accuracy: 0.9603 - val_loss: 0.6114 - val_accuracy: 0.7500\n",
      "Epoch 18/20\n",
      "163/163 [==============================] - 107s 657ms/step - loss: 0.0965 - accuracy: 0.9643 - val_loss: 0.5004 - val_accuracy: 0.8125\n",
      "Epoch 19/20\n",
      "163/163 [==============================] - 109s 667ms/step - loss: 0.0979 - accuracy: 0.9630 - val_loss: 0.3615 - val_accuracy: 0.8750\n",
      "Epoch 20/20\n",
      "163/163 [==============================] - 107s 657ms/step - loss: 0.1061 - accuracy: 0.9603 - val_loss: 0.4019 - val_accuracy: 0.7500\n"
     ]
    }
   ],
   "source": [
    "history = model.fit(\n",
    "    train_data,\n",
    "    epochs=20,\n",
    "    validation_data=val_data,\n",
    "    callbacks=[tensorboard_callback]  # Add TensorBoard callback here\n",
    ")\n"
   ]
  },
  {
   "attachments": {},
   "cell_type": "markdown",
   "metadata": {},
   "source": [
    "Remove-Item -Recurse -Force .\\logs\\fit\\\n",
    "py -m tensorboard.main --logdir=logs/fit"
   ]
  }
 ],
 "metadata": {
  "kernelspec": {
   "display_name": "venv",
   "language": "python",
   "name": "python3"
  },
  "language_info": {
   "codemirror_mode": {
    "name": "ipython",
    "version": 3
   },
   "file_extension": ".py",
   "mimetype": "text/x-python",
   "name": "python",
   "nbconvert_exporter": "python",
   "pygments_lexer": "ipython3",
   "version": "3.11.2"
  },
  "orig_nbformat": 4
 },
 "nbformat": 4,
 "nbformat_minor": 2
}
