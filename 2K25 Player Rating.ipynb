{
 "cells": [
  {
   "cell_type": "markdown",
   "metadata": {},
   "source": [
    "# XGBoost Regressor: Predicting NBA player's 2K25 overall rating"
   ]
  },
  {
   "cell_type": "code",
   "execution_count": 12,
   "metadata": {},
   "outputs": [
    {
     "name": "stdout",
     "output_type": "stream",
     "text": [
      "tensorflow version: 2.13.0\n",
      "numpy version: 1.23.5\n",
      "pandas version: 1.5.3\n"
     ]
    }
   ],
   "source": [
    "import numpy as np\n",
    "import pandas as pd\n",
    "import os\n",
    "\n",
    "print(f'numpy version: {np.__version__}')\n",
    "print(f'pandas version: {pd.__version__}')\n"
   ]
  },
  {
   "cell_type": "markdown",
   "metadata": {},
   "source": [
    "# Load Data\n",
    "\n",
    "The data's dimension is 521 x 104. "
   ]
  },
  {
   "cell_type": "code",
   "execution_count": 2,
   "metadata": {},
   "outputs": [
    {
     "name": "stdout",
     "output_type": "stream",
     "text": [
      "(521, 104)\n"
     ]
    },
    {
     "data": {
      "text/html": [
       "<div>\n",
       "<style scoped>\n",
       "    .dataframe tbody tr th:only-of-type {\n",
       "        vertical-align: middle;\n",
       "    }\n",
       "\n",
       "    .dataframe tbody tr th {\n",
       "        vertical-align: top;\n",
       "    }\n",
       "\n",
       "    .dataframe thead th {\n",
       "        text-align: right;\n",
       "    }\n",
       "</style>\n",
       "<table border=\"1\" class=\"dataframe\">\n",
       "  <thead>\n",
       "    <tr style=\"text-align: right;\">\n",
       "      <th></th>\n",
       "      <th>name</th>\n",
       "      <th>nationality_1</th>\n",
       "      <th>nationality_2</th>\n",
       "      <th>team</th>\n",
       "      <th>jersey</th>\n",
       "      <th>position_1</th>\n",
       "      <th>position_2</th>\n",
       "      <th>archetype</th>\n",
       "      <th>height_feet</th>\n",
       "      <th>height_cm</th>\n",
       "      <th>...</th>\n",
       "      <th>badge_off_ball_pest</th>\n",
       "      <th>badge_on_ball_menace</th>\n",
       "      <th>badge_paint_patroller</th>\n",
       "      <th>badge_pick_dodger</th>\n",
       "      <th>badge_post_lockdown</th>\n",
       "      <th>badge_boxout_beast</th>\n",
       "      <th>badge_rebound_chaser</th>\n",
       "      <th>badge_brick_wall</th>\n",
       "      <th>badge_slippery_off_ball</th>\n",
       "      <th>badge_pogo_stick</th>\n",
       "    </tr>\n",
       "  </thead>\n",
       "  <tbody>\n",
       "    <tr>\n",
       "      <th>0</th>\n",
       "      <td>Aaron Gordon</td>\n",
       "      <td>United States</td>\n",
       "      <td>NaN</td>\n",
       "      <td>Denver Nuggets</td>\n",
       "      <td>32.0</td>\n",
       "      <td>PF</td>\n",
       "      <td>NaN</td>\n",
       "      <td>2-Way Interior Scorer</td>\n",
       "      <td>6'8\"</td>\n",
       "      <td>203</td>\n",
       "      <td>...</td>\n",
       "      <td>silver</td>\n",
       "      <td>NaN</td>\n",
       "      <td>NaN</td>\n",
       "      <td>NaN</td>\n",
       "      <td>NaN</td>\n",
       "      <td>NaN</td>\n",
       "      <td>NaN</td>\n",
       "      <td>NaN</td>\n",
       "      <td>NaN</td>\n",
       "      <td>gold</td>\n",
       "    </tr>\n",
       "    <tr>\n",
       "      <th>1</th>\n",
       "      <td>Aaron Holiday</td>\n",
       "      <td>United States</td>\n",
       "      <td>NaN</td>\n",
       "      <td>Houston Rockets</td>\n",
       "      <td>0.0</td>\n",
       "      <td>PG</td>\n",
       "      <td>SG</td>\n",
       "      <td>Perimeter Shot Creator</td>\n",
       "      <td>6'0\"</td>\n",
       "      <td>183</td>\n",
       "      <td>...</td>\n",
       "      <td>NaN</td>\n",
       "      <td>NaN</td>\n",
       "      <td>NaN</td>\n",
       "      <td>NaN</td>\n",
       "      <td>NaN</td>\n",
       "      <td>NaN</td>\n",
       "      <td>NaN</td>\n",
       "      <td>NaN</td>\n",
       "      <td>NaN</td>\n",
       "      <td>NaN</td>\n",
       "    </tr>\n",
       "    <tr>\n",
       "      <th>2</th>\n",
       "      <td>Aaron Nesmith</td>\n",
       "      <td>United States</td>\n",
       "      <td>NaN</td>\n",
       "      <td>Indiana Pacers</td>\n",
       "      <td>23.0</td>\n",
       "      <td>SF</td>\n",
       "      <td>PF</td>\n",
       "      <td>2-Way Catch &amp; Shoot Ace</td>\n",
       "      <td>6'5\"</td>\n",
       "      <td>196</td>\n",
       "      <td>...</td>\n",
       "      <td>silver</td>\n",
       "      <td>NaN</td>\n",
       "      <td>NaN</td>\n",
       "      <td>NaN</td>\n",
       "      <td>NaN</td>\n",
       "      <td>NaN</td>\n",
       "      <td>NaN</td>\n",
       "      <td>NaN</td>\n",
       "      <td>silver</td>\n",
       "      <td>bronze</td>\n",
       "    </tr>\n",
       "    <tr>\n",
       "      <th>3</th>\n",
       "      <td>Aaron Wiggins</td>\n",
       "      <td>United States</td>\n",
       "      <td>NaN</td>\n",
       "      <td>Oklahoma City Thunder</td>\n",
       "      <td>21.0</td>\n",
       "      <td>PF</td>\n",
       "      <td>SF</td>\n",
       "      <td>Inside-Out Scoring Threat</td>\n",
       "      <td>6'5\"</td>\n",
       "      <td>196</td>\n",
       "      <td>...</td>\n",
       "      <td>NaN</td>\n",
       "      <td>NaN</td>\n",
       "      <td>NaN</td>\n",
       "      <td>NaN</td>\n",
       "      <td>NaN</td>\n",
       "      <td>NaN</td>\n",
       "      <td>NaN</td>\n",
       "      <td>NaN</td>\n",
       "      <td>gold</td>\n",
       "      <td>NaN</td>\n",
       "    </tr>\n",
       "    <tr>\n",
       "      <th>4</th>\n",
       "      <td>Adam Flagler</td>\n",
       "      <td>United States</td>\n",
       "      <td>NaN</td>\n",
       "      <td>Oklahoma City Thunder</td>\n",
       "      <td>14.0</td>\n",
       "      <td>SG</td>\n",
       "      <td>PG</td>\n",
       "      <td>Catch &amp; Shoot Threat</td>\n",
       "      <td>6'3\"</td>\n",
       "      <td>191</td>\n",
       "      <td>...</td>\n",
       "      <td>NaN</td>\n",
       "      <td>NaN</td>\n",
       "      <td>NaN</td>\n",
       "      <td>NaN</td>\n",
       "      <td>NaN</td>\n",
       "      <td>NaN</td>\n",
       "      <td>NaN</td>\n",
       "      <td>NaN</td>\n",
       "      <td>NaN</td>\n",
       "      <td>NaN</td>\n",
       "    </tr>\n",
       "  </tbody>\n",
       "</table>\n",
       "<p>5 rows × 104 columns</p>\n",
       "</div>"
      ],
      "text/plain": [
       "            name  nationality_1 nationality_2                   team  jersey  \\\n",
       "0   Aaron Gordon  United States           NaN         Denver Nuggets    32.0   \n",
       "1  Aaron Holiday  United States           NaN        Houston Rockets     0.0   \n",
       "2  Aaron Nesmith  United States           NaN         Indiana Pacers    23.0   \n",
       "3  Aaron Wiggins  United States           NaN  Oklahoma City Thunder    21.0   \n",
       "4   Adam Flagler  United States           NaN  Oklahoma City Thunder    14.0   \n",
       "\n",
       "  position_1 position_2                  archetype height_feet  height_cm  \\\n",
       "0         PF        NaN      2-Way Interior Scorer        6'8\"        203   \n",
       "1         PG         SG     Perimeter Shot Creator        6'0\"        183   \n",
       "2         SF         PF    2-Way Catch & Shoot Ace        6'5\"        196   \n",
       "3         PF         SF  Inside-Out Scoring Threat        6'5\"        196   \n",
       "4         SG         PG       Catch & Shoot Threat        6'3\"        191   \n",
       "\n",
       "   ...  badge_off_ball_pest  badge_on_ball_menace badge_paint_patroller  \\\n",
       "0  ...               silver                   NaN                   NaN   \n",
       "1  ...                  NaN                   NaN                   NaN   \n",
       "2  ...               silver                   NaN                   NaN   \n",
       "3  ...                  NaN                   NaN                   NaN   \n",
       "4  ...                  NaN                   NaN                   NaN   \n",
       "\n",
       "   badge_pick_dodger  badge_post_lockdown  badge_boxout_beast  \\\n",
       "0                NaN                  NaN                 NaN   \n",
       "1                NaN                  NaN                 NaN   \n",
       "2                NaN                  NaN                 NaN   \n",
       "3                NaN                  NaN                 NaN   \n",
       "4                NaN                  NaN                 NaN   \n",
       "\n",
       "  badge_rebound_chaser badge_brick_wall badge_slippery_off_ball  \\\n",
       "0                  NaN              NaN                     NaN   \n",
       "1                  NaN              NaN                     NaN   \n",
       "2                  NaN              NaN                  silver   \n",
       "3                  NaN              NaN                    gold   \n",
       "4                  NaN              NaN                     NaN   \n",
       "\n",
       "   badge_pogo_stick  \n",
       "0              gold  \n",
       "1               NaN  \n",
       "2            bronze  \n",
       "3               NaN  \n",
       "4               NaN  \n",
       "\n",
       "[5 rows x 104 columns]"
      ]
     },
     "execution_count": 2,
     "metadata": {},
     "output_type": "execute_result"
    }
   ],
   "source": [
    "data = pd.read_csv('~/Desktop/current_nba_players.csv').iloc[:,1:]\n",
    "print(data.shape)\n",
    "data.head(5)"
   ]
  },
  {
   "cell_type": "markdown",
   "metadata": {},
   "source": [
    "# Data Preprocessing"
   ]
  },
  {
   "cell_type": "code",
   "execution_count": 3,
   "metadata": {},
   "outputs": [],
   "source": [
    "# drop inital trash columns\n",
    "irrelavant_columns = ['nationality_2', 'archetype', 'hometown', 'prior_to_nba', 'birthdate', 'position_2',\n",
    "                      'height_feet', 'weight_kg', 'wingspan_feet']\n",
    "data = data.drop(columns=irrelavant_columns, index=1)\n"
   ]
  },
  {
   "cell_type": "code",
   "execution_count": 4,
   "metadata": {},
   "outputs": [],
   "source": [
    "# drop non-NBA players\n",
    "data = data.dropna(subset=['team', 'jersey'])"
   ]
  },
  {
   "cell_type": "code",
   "execution_count": 5,
   "metadata": {},
   "outputs": [],
   "source": [
    "# fill season_salary and agility with mean value\n",
    "columns_fill_mean = ['season_salary', 'agility']\n",
    "data[columns_fill_mean] = data[columns_fill_mean].apply(lambda x: x.fillna(x.mean()))"
   ]
  },
  {
   "cell_type": "code",
   "execution_count": 6,
   "metadata": {},
   "outputs": [
    {
     "name": "stderr",
     "output_type": "stream",
     "text": [
      "/var/folders/q0/_1zxr2j52js_c6dlq88y4w1c0000gn/T/ipykernel_36104/221239521.py:3: DeprecationWarning: In a future version, `df.iloc[:, i] = newvals` will attempt to set the values inplace instead of always setting a new array. To retain the old behavior, use either `df[df.columns[i]] = newvals` or, if columns are non-unique, `df.isetitem(i, newvals)`\n",
      "  data.iloc[:,55:] = data.iloc[:,55:].apply(lambda x: x.map(encoding))\n"
     ]
    }
   ],
   "source": [
    "# label encoding for badges\n",
    "encoding = {'bronze':1, 'silver':2, 'gold':3, 'hof':4}\n",
    "\n",
    "data.iloc[:,55:] = data.iloc[:,55:].apply(lambda x: x.map(encoding))\n",
    "data.iloc[:,55:] = data.iloc[:,55:].apply(lambda x: x.fillna(0))\n"
   ]
  },
  {
   "cell_type": "code",
   "execution_count": 7,
   "metadata": {},
   "outputs": [],
   "source": [
    "# one-hot encoding for position\n",
    "data = pd.get_dummies(data, columns=['position_1'])"
   ]
  },
  {
   "cell_type": "code",
   "execution_count": 8,
   "metadata": {},
   "outputs": [],
   "source": [
    "# stadardize measurements\n",
    "from sklearn.preprocessing import StandardScaler\n",
    "\n",
    "scaler_columns = ['height_cm', 'weight_lbs', 'wingspan_cm']\n",
    "st_scaler = StandardScaler()\n",
    "data[scaler_columns] = st_scaler.fit_transform(data[scaler_columns])"
   ]
  },
  {
   "cell_type": "code",
   "execution_count": 9,
   "metadata": {},
   "outputs": [],
   "source": [
    "# standardize salary\n",
    "from sklearn.preprocessing import RobustScaler \n",
    "\n",
    "rb_scaler = RobustScaler()\n",
    "data[['season_salary']] = rb_scaler.fit_transform(data[['season_salary']])"
   ]
  },
  {
   "cell_type": "markdown",
   "metadata": {},
   "source": [
    "# Model Training"
   ]
  },
  {
   "cell_type": "code",
   "execution_count": 10,
   "metadata": {},
   "outputs": [],
   "source": [
    "X = data.drop(columns=['name', 'nationality_1', 'team', 'jersey', 'overall'], axis = 1)\n",
    "y = data['overall']\n",
    "\n",
    "from sklearn.model_selection import train_test_split\n",
    "\n",
    "# split data into training and testing data\n",
    "X_train, X_test, y_train, y_test = train_test_split(X, y, test_size=0.25, random_state=23)"
   ]
  },
  {
   "cell_type": "markdown",
   "metadata": {},
   "source": [
    "## Inital Training"
   ]
  },
  {
   "cell_type": "code",
   "execution_count": 38,
   "metadata": {},
   "outputs": [
    {
     "data": {
      "image/png": "[encoded data removed]",
      "text/plain": [
       "<Figure size 1000x600 with 1 Axes>"
      ]
     },
     "metadata": {},
     "output_type": "display_data"
    },
    {
     "name": "stdout",
     "output_type": "stream",
     "text": [
      "Overall Test MAE: 1.1715042701134315\n"
     ]
    }
   ],
   "source": [
    "import xgboost as xgb\n",
    "import matplotlib.pyplot as plt\n",
    "from sklearn.metrics import mean_absolute_error\n",
    "\n",
    "\n",
    "# Set up the XGBoost model with evaluation metric\n",
    "xgb_model = xgb.XGBRegressor(\n",
    "    objective='reg:squarederror',\n",
    "    eval_metric=\"mae\",\n",
    "    random_state = 23\n",
    ")\n",
    "\n",
    "xgb_model.fit(\n",
    "    X_train, y_train,\n",
    "    eval_set=[(X_train, y_train), (X_test, y_test)],\n",
    "    verbose=False\n",
    ")\n",
    "\n",
    "# Retrieve the evaluation results after training\n",
    "evals_result = xgb_model.evals_result()\n",
    "\n",
    "# Plotting the training and validation RMSE\n",
    "epochs = len(evals_result['validation_0']['mae'])\n",
    "x_axis = range(epochs)\n",
    "\n",
    "plt.figure(figsize=(10, 6))\n",
    "plt.plot(x_axis, evals_result['validation_0']['mae'], label='Train MAE')\n",
    "plt.plot(x_axis, evals_result['validation_1']['mae'], label='Validation MAE')\n",
    "plt.xlabel('Epoch')\n",
    "plt.ylabel('MAE')\n",
    "plt.title('Training and Validation MAE Over Epochs')\n",
    "plt.legend()\n",
    "plt.grid(True)\n",
    "plt.show()\n",
    "\n",
    "y_pred = xgb_model.predict(X_test)\n",
    "mae = mean_absolute_error(y_test, y_pred)\n",
    "print(\"Overall Test MAE:\", mae)"
   ]
  },
  {
   "cell_type": "markdown",
   "metadata": {},
   "source": [
    "## The initial training has a Mean Absolute Error of 1.172, which is not bad at all. Now let us use GridSearch to finetune the model"
   ]
  },
  {
   "cell_type": "code",
   "execution_count": 40,
   "metadata": {},
   "outputs": [
    {
     "name": "stdout",
     "output_type": "stream",
     "text": [
      "Fitting 3 folds for each of 32000 candidates, totalling 96000 fits\n",
      "Best Parameters: {'alpha': 0, 'colsample_bytree': 0.6, 'lambda': 1, 'learning_rate': 0.05, 'max_depth': 3, 'n_estimators': 400, 'subsample': 0.6}\n",
      "Mean Absolute Error with Optimal Parameters: 0.9506945096529447\n"
     ]
    }
   ],
   "source": [
    "from sklearn.model_selection import GridSearchCV\n",
    "\n",
    "param_grid = {\n",
    "    'learning_rate': [0.01, 0.05, 0.1, 0.2, 0.3],\n",
    "    'max_depth': [3, 5, 7, 9],\n",
    "    'n_estimators': [100, 200, 300, 400],\n",
    "    'subsample': [0.6, 0.7, 0.8, 0.9, 1.0],\n",
    "    'colsample_bytree': [0.6, 0.7, 0.8, 0.9, 1.0],\n",
    "    'alpha': [0, 0.5, 1, 1.5],  # L1 regularization\n",
    "    'lambda': [1, 1.5, 2, 2.5]\n",
    "}\n",
    "\n",
    "xgb_model = xgb.XGBRegressor(objective='reg:squarederror', eval_metric='mae', random_state=23)\n",
    "\n",
    "# Set up GridSearchCV with cross-validation\n",
    "grid_search = GridSearchCV(estimator=xgb_model, param_grid=param_grid, \n",
    "                           scoring='neg_mean_absolute_error', cv=3, verbose=1, n_jobs=-1)\n",
    "\n",
    "# Fit GridSearchCV\n",
    "grid_search.fit(X_train, y_train)\n",
    "\n",
    "# Retrieve the best parameters\n",
    "best_params = grid_search.best_params_\n",
    "print(\"Best Parameters:\", best_params)\n",
    "\n",
    "# Train the model with the best parameters\n",
    "best_xgb_model = xgb.XGBRegressor(**best_params, objective='reg:squarederror', random_state=42)\n",
    "best_xgb_model.fit(X_train, y_train)\n",
    "\n",
    "# Predict and calculate MAE on the test set\n",
    "y_pred = best_xgb_model.predict(X_test)\n",
    "mae = mean_absolute_error(y_test, y_pred)\n",
    "print(\"Mean Absolute Error with Optimal Parameters:\", mae)\n",
    "\n"
   ]
  },
  {
   "cell_type": "markdown",
   "metadata": {},
   "source": [
    "## Final Model "
   ]
  },
  {
   "cell_type": "code",
   "execution_count": 67,
   "metadata": {},
   "outputs": [
    {
     "data": {
      "image/png": "[encoded data removed]",
      "text/plain": [
       "<Figure size 1000x600 with 1 Axes>"
      ]
     },
     "metadata": {},
     "output_type": "display_data"
    },
    {
     "name": "stdout",
     "output_type": "stream",
     "text": [
      "Overall Test MAE: 0.9\n"
     ]
    }
   ],
   "source": [
    "xgb_model = xgb.XGBRegressor(\n",
    "    objective='reg:squarederror',\n",
    "    eval_metric=\"mae\",\n",
    "    random_state = 23,\n",
    "    learning_rate = 0.03,\n",
    "    max_depth = 4,\n",
    "    n_estimators = 500,\n",
    "    subsample = 0.6,\n",
    "    colsample_bytree = 0.6,\n",
    "    reg_alpha = 0,  # L1 regularization\n",
    "    reg_lambda = 1  # L2 regularization\n",
    ")\n",
    "\n",
    "\n",
    "xgb_model.fit(\n",
    "    X_train, y_train,\n",
    "    eval_set=[(X_train, y_train), (X_test, y_test)],\n",
    "    verbose=False\n",
    ")\n",
    "\n",
    "# Retrieve the evaluation results after training\n",
    "evals_result = xgb_model.evals_result()\n",
    "\n",
    "# Plotting the training and validation RMSE\n",
    "epochs = len(evals_result['validation_0']['mae'])\n",
    "x_axis = range(epochs)\n",
    "\n",
    "plt.figure(figsize=(10, 6))\n",
    "plt.plot(x_axis, evals_result['validation_0']['mae'], label='Train MAE')\n",
    "plt.plot(x_axis, evals_result['validation_1']['mae'], label='Validation MAE')\n",
    "plt.xlabel('Epoch')\n",
    "plt.ylabel('MAE')\n",
    "plt.title('Training and Validation MAE Over Epochs')\n",
    "plt.legend()\n",
    "plt.grid(True)\n",
    "plt.show()\n",
    "\n",
    "y_pred = xgb_model.predict(X_test)\n",
    "mae = mean_absolute_error(y_test, np.rint(y_pred).astype(int))\n",
    "print(\"Overall Test MAE:\", mae)\n",
    "\n",
    "\n"
   ]
  },
  {
   "cell_type": "markdown",
   "metadata": {},
   "source": [
    "# Conclustion\n",
    "\n",
    "## Final model achieved Mean Absolute Error of 0.9. We can interpret it as -- on average, the model predictions are off by 0.9 rating points from the actual ratings when predicting a NBA player's overall rating in NBA 2K25."
   ]
  },
  {
   "cell_type": "code",
   "execution_count": 94,
   "metadata": {},
   "outputs": [
    {
     "data": {
      "text/html": [
       "<div>\n",
       "<style scoped>\n",
       "    .dataframe tbody tr th:only-of-type {\n",
       "        vertical-align: middle;\n",
       "    }\n",
       "\n",
       "    .dataframe tbody tr th {\n",
       "        vertical-align: top;\n",
       "    }\n",
       "\n",
       "    .dataframe thead th {\n",
       "        text-align: right;\n",
       "    }\n",
       "</style>\n",
       "<table border=\"1\" class=\"dataframe\">\n",
       "  <thead>\n",
       "    <tr style=\"text-align: right;\">\n",
       "      <th></th>\n",
       "      <th>Player Name</th>\n",
       "      <th>Overall</th>\n",
       "      <th>Predicted Overall</th>\n",
       "    </tr>\n",
       "  </thead>\n",
       "  <tbody>\n",
       "    <tr>\n",
       "      <th>414</th>\n",
       "      <td>Pelle Larsson</td>\n",
       "      <td>68</td>\n",
       "      <td>68</td>\n",
       "    </tr>\n",
       "    <tr>\n",
       "      <th>370</th>\n",
       "      <td>Mitchell Robinson</td>\n",
       "      <td>80</td>\n",
       "      <td>78</td>\n",
       "    </tr>\n",
       "    <tr>\n",
       "      <th>234</th>\n",
       "      <td>Jaylen Brown</td>\n",
       "      <td>92</td>\n",
       "      <td>91</td>\n",
       "    </tr>\n",
       "    <tr>\n",
       "      <th>204</th>\n",
       "      <td>Jake LaRavia</td>\n",
       "      <td>74</td>\n",
       "      <td>75</td>\n",
       "    </tr>\n",
       "    <tr>\n",
       "      <th>378</th>\n",
       "      <td>Bones Hyland</td>\n",
       "      <td>74</td>\n",
       "      <td>75</td>\n",
       "    </tr>\n",
       "    <tr>\n",
       "      <th>...</th>\n",
       "      <td>...</td>\n",
       "      <td>...</td>\n",
       "      <td>...</td>\n",
       "    </tr>\n",
       "    <tr>\n",
       "      <th>194</th>\n",
       "      <td>Jabari Smith Jr.</td>\n",
       "      <td>80</td>\n",
       "      <td>80</td>\n",
       "    </tr>\n",
       "    <tr>\n",
       "      <th>424</th>\n",
       "      <td>Quinten Post</td>\n",
       "      <td>68</td>\n",
       "      <td>68</td>\n",
       "    </tr>\n",
       "    <tr>\n",
       "      <th>62</th>\n",
       "      <td>Buddy Hield</td>\n",
       "      <td>79</td>\n",
       "      <td>76</td>\n",
       "    </tr>\n",
       "    <tr>\n",
       "      <th>272</th>\n",
       "      <td>Josh Christopher</td>\n",
       "      <td>70</td>\n",
       "      <td>74</td>\n",
       "    </tr>\n",
       "    <tr>\n",
       "      <th>14</th>\n",
       "      <td>Alex Len</td>\n",
       "      <td>71</td>\n",
       "      <td>72</td>\n",
       "    </tr>\n",
       "  </tbody>\n",
       "</table>\n",
       "<p>130 rows × 3 columns</p>\n",
       "</div>"
      ],
      "text/plain": [
       "           Player Name  Overall  Predicted Overall\n",
       "414      Pelle Larsson       68                 68\n",
       "370  Mitchell Robinson       80                 78\n",
       "234       Jaylen Brown       92                 91\n",
       "204       Jake LaRavia       74                 75\n",
       "378       Bones Hyland       74                 75\n",
       "..                 ...      ...                ...\n",
       "194   Jabari Smith Jr.       80                 80\n",
       "424       Quinten Post       68                 68\n",
       "62         Buddy Hield       79                 76\n",
       "272   Josh Christopher       70                 74\n",
       "14            Alex Len       71                 72\n",
       "\n",
       "[130 rows x 3 columns]"
      ]
     },
     "execution_count": 94,
     "metadata": {},
     "output_type": "execute_result"
    }
   ],
   "source": [
    "\n",
    "pd.DataFrame({\n",
    "    'Player Name': data.loc[X_test.index, 'name'],\n",
    "    'Overall':y_test,\n",
    "    'Predicted Overall':np.rint(y_pred).astype(int),\n",
    "}\n",
    ")\n",
    "\n"
   ]
  }
 ],
 "metadata": {
  "kernelspec": {
   "display_name": "Python 3",
   "language": "python",
   "name": "python3"
  },
  "language_info": {
   "codemirror_mode": {
    "name": "ipython",
    "version": 3
   },
   "file_extension": ".py",
   "mimetype": "text/x-python",
   "name": "python",
   "nbconvert_exporter": "python",
   "pygments_lexer": "ipython3",
   "version": "3.11.1"
  }
 },
 "nbformat": 4,
 "nbformat_minor": 2
}
